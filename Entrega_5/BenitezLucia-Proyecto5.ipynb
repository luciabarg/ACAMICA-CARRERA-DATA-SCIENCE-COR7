{
  "nbformat": 4,
  "nbformat_minor": 0,
  "metadata": {
    "kernelspec": {
      "name": "python3",
      "display_name": "Python 3"
    },
    "language_info": {
      "codemirror_mode": {
        "name": "ipython",
        "version": 3
      },
      "file_extension": ".py",
      "mimetype": "text/x-python",
      "name": "python",
      "nbconvert_exporter": "python",
      "pygments_lexer": "ipython3",
      "version": "3.7.6"
    },
    "colab": {
      "name": "Proyecto5.ipynb",
      "provenance": [],
      "collapsed_sections": []
    },
    "accelerator": "GPU"
  },
  "cells": [
    {
      "cell_type": "markdown",
      "metadata": {
        "id": "XgEUYNj4vnTc",
        "colab_type": "text"
      },
      "source": [
        "# Proyecto 5: Análisis de sentimiento en reviews de películas"
      ]
    },
    {
      "cell_type": "markdown",
      "metadata": {
        "id": "pqMFuxzBvnTh",
        "colab_type": "text"
      },
      "source": [
        "En este proyecto vamos a trabajar con un dataset de reviews de películas. El objectivo es clasificar cada comentario de acuerdo al sentimiento positivo o negativo hacia la película. Para hacerlo, vamos a trabajar con procesamiento de texto para luego aplicar las diferentes técnicas predictivas que hemos visto."
      ]
    },
    {
      "cell_type": "markdown",
      "metadata": {
        "id": "z5NC6yybvnTk",
        "colab_type": "text"
      },
      "source": [
        "## Dataset"
      ]
    },
    {
      "cell_type": "markdown",
      "metadata": {
        "id": "H4KNHPv9vnTm",
        "colab_type": "text"
      },
      "source": [
        "En primer lugar, carguemos las reviews para comenzar a procesarlas. En este caso no tenemos un archivo `.csv`, sino un directorio estructurado de la siguiente forma: \n",
        "```\n",
        "movie_reviews/\n",
        "  neg/\n",
        "  pos/\n",
        "```\n",
        "`sklearn` nos provee de la función `load_files` que permite recorrer este tipo de estructuras. "
      ]
    },
    {
      "cell_type": "markdown",
      "metadata": {
        "id": "MziRIBM-iE0m",
        "colab_type": "text"
      },
      "source": [
        "Vinculamos el Drive con Colab:"
      ]
    },
    {
      "cell_type": "code",
      "metadata": {
        "id": "-AqtbgKXxMrz",
        "colab_type": "code",
        "outputId": "a0ad9de8-d560-4236-fb5d-467b9fc49cd9",
        "colab": {
          "base_uri": "https://localhost:8080/",
          "height": 34
        }
      },
      "source": [
        "from google.colab import drive\n",
        "drive.mount('/content/drive')"
      ],
      "execution_count": 3,
      "outputs": [
        {
          "output_type": "stream",
          "text": [
            "Drive already mounted at /content/drive; to attempt to forcibly remount, call drive.mount(\"/content/drive\", force_remount=True).\n"
          ],
          "name": "stdout"
        }
      ]
    },
    {
      "cell_type": "code",
      "metadata": {
        "id": "y4MdGAXovnTo",
        "colab_type": "code",
        "colab": {}
      },
      "source": [
        "import warnings\n",
        "warnings.filterwarnings(\"ignore\")\n",
        "import sklearn\n",
        "from sklearn.datasets import load_files\n",
        "moviedir = r'/content/drive/My Drive/Acamica/entrega_5/dataset/movie_reviews' \n",
        "movie_reviews = load_files(moviedir, shuffle=True)"
      ],
      "execution_count": 0,
      "outputs": []
    },
    {
      "cell_type": "markdown",
      "metadata": {
        "id": "CoInxBwavnTx",
        "colab_type": "text"
      },
      "source": [
        "Ahora en la variable `movies` tendremos guardadas las reviews (`movies.data`) y su sentimiento (`movies.target`).\n",
        "Veamos cuantas reviews tenemos en total:"
      ]
    },
    {
      "cell_type": "code",
      "metadata": {
        "id": "DYgoj2nuvnTz",
        "colab_type": "code",
        "outputId": "da5831dd-ff81-476e-e8fc-92c11fafb0c0",
        "colab": {
          "base_uri": "https://localhost:8080/",
          "height": 34
        }
      },
      "source": [
        "print(\"Tenemos {} reviews, con clases {},\".format(len(movie_reviews.data), movie_reviews.target_names))"
      ],
      "execution_count": 5,
      "outputs": [
        {
          "output_type": "stream",
          "text": [
            "Tenemos 2000 reviews, con clases ['neg', 'pos'],\n"
          ],
          "name": "stdout"
        }
      ]
    },
    {
      "cell_type": "markdown",
      "metadata": {
        "id": "pn_haIL-vnT8",
        "colab_type": "text"
      },
      "source": [
        "Analizando la estructura de los documentos, veamos como luce una muestra de `movies.data`:"
      ]
    },
    {
      "cell_type": "code",
      "metadata": {
        "id": "VdR_1cVFvnT_",
        "colab_type": "code",
        "outputId": "990ee630-2c61-43f9-c852-b19d8f63d67d",
        "colab": {
          "base_uri": "https://localhost:8080/",
          "height": 54
        }
      },
      "source": [
        "movie_reviews.data[3][:700]"
      ],
      "execution_count": 6,
      "outputs": [
        {
          "output_type": "execute_result",
          "data": {
            "text/plain": [
              "b'we could paraphrase michelle pfieffer\\'s character in dangerous minds and say that beyond rangoon starts with an \" a . \" \\nthat\\'s fair enough . \\nall movies , like all school children , should be given the benefit of the doubt . \\nthe chance to succeed . \\nafter all , we like to think that the right combination of talent and effort can do wonders . \\nmountains can be moved , and good movies can be made . \\nyeah right . \\nchildren fail , as do films . \\nas does director john boorman\\'s latest . \\nthe success of beyond rangoon hinges on the believability of patricia arquette ( ed wood , true romance ) as the busty westerner-in-peril wandering about 1988 burma without a passport . \\nthough we can stomach t'"
            ]
          },
          "metadata": {
            "tags": []
          },
          "execution_count": 6
        }
      ]
    },
    {
      "cell_type": "markdown",
      "metadata": {
        "id": "GmIueae2vnUH",
        "colab_type": "text"
      },
      "source": [
        "Y ahora, con la propiedad `target` podemos ver la categoría asociada a esta review"
      ]
    },
    {
      "cell_type": "code",
      "metadata": {
        "id": "rdtIRINmvnUJ",
        "colab_type": "code",
        "outputId": "5a57284f-c518-49ca-c5a6-89d22ee3becd",
        "colab": {
          "base_uri": "https://localhost:8080/",
          "height": 34
        }
      },
      "source": [
        "movie_reviews.target[3]"
      ],
      "execution_count": 7,
      "outputs": [
        {
          "output_type": "execute_result",
          "data": {
            "text/plain": [
              "0"
            ]
          },
          "metadata": {
            "tags": []
          },
          "execution_count": 7
        }
      ]
    },
    {
      "cell_type": "markdown",
      "metadata": {
        "id": "LKPR2fFhvnUS",
        "colab_type": "text"
      },
      "source": [
        "En este caso es un 0, es decir `neg`."
      ]
    },
    {
      "cell_type": "markdown",
      "metadata": {
        "id": "DWXHuUG_vnUU",
        "colab_type": "text"
      },
      "source": [
        "## Separando en conjuntos de entrenamiento y de testeo"
      ]
    },
    {
      "cell_type": "markdown",
      "metadata": {
        "id": "d89TCe1VvnUX",
        "colab_type": "text"
      },
      "source": [
        "Antes de comenzar con el entrenamiento de los modelos probando distintos algoritmos para encontrar los mejores modelos, vamos a separar el conjunto de reviews en training y testing. "
      ]
    },
    {
      "cell_type": "code",
      "metadata": {
        "id": "V7dKlsqlvnUZ",
        "colab_type": "code",
        "colab": {}
      },
      "source": [
        "from sklearn.model_selection import train_test_split\n",
        "X_train, X_test, y_train, y_test = train_test_split(\n",
        "    movie_reviews.data, movie_reviews.target, test_size = 0.20, stratify=movie_reviews.target, random_state = 12)"
      ],
      "execution_count": 0,
      "outputs": []
    },
    {
      "cell_type": "markdown",
      "metadata": {
        "id": "xWyKbj_CvnUf",
        "colab_type": "text"
      },
      "source": [
        "## Preprocesamiento"
      ]
    },
    {
      "cell_type": "markdown",
      "metadata": {
        "id": "XwxNSR2evnUi",
        "colab_type": "text"
      },
      "source": [
        "Para trabajar con texto tenemos que realizar una serie de pasos antes de poder entrenar un modelo. Es decir, buscar la forma de convertir el texto a una representación numérica que pueda ser interpretable por los algoritmos de clasificación. \n",
        "Para ello vamos a realizar una serie de pasos.\n",
        "- Tokenizar el texto\n",
        "- Convertir a vectores de términos/documentos\n",
        "- Aplicar tfidf\n"
      ]
    },
    {
      "cell_type": "markdown",
      "metadata": {
        "id": "pRGTfNEjvnUk",
        "colab_type": "text"
      },
      "source": [
        "Es importante destacar que el `fit` debe hacerse sobre el conjunto de `train` y no sobre el total, ya que `tfidf` tiene en cuenta la frecuencia de aparición de las palabras respecto al total del conjunto. Una vez que usamos el `fit` con el conjunto de entrenamiento podemos aplicar la transformación al conjunto de `test`. "
      ]
    },
    {
      "cell_type": "markdown",
      "metadata": {
        "id": "Ex8rlBabvnUm",
        "colab_type": "text"
      },
      "source": [
        "**1) Vectorizá** los textos para obtener una matriz de términos/documentos utilizando td-idf. "
      ]
    },
    {
      "cell_type": "code",
      "metadata": {
        "id": "Q6mRBZalvnUo",
        "colab_type": "code",
        "colab": {}
      },
      "source": [
        "# Realizá los pasos necesarios para vectorizar los conjuntos de entrenamiento y testeo en esta celda:\n",
        "from sklearn.feature_extraction.text import TfidfVectorizer\n",
        "\n",
        "vectorizer = TfidfVectorizer(strip_accents='unicode',\n",
        "                             stop_words='english',\n",
        "                             token_pattern='\\w+')\n",
        "X_train_vectorized = vectorizer.fit_transform(X_train)\n",
        "X_test_vectorized = vectorizer.transform(X_test)"
      ],
      "execution_count": 0,
      "outputs": []
    },
    {
      "cell_type": "markdown",
      "metadata": {
        "id": "lpB_fEtyvnUv",
        "colab_type": "text"
      },
      "source": [
        "### Dimensión de la matriz de términos\n",
        "Una vez vectorizados los documentos veamos qué forma tiene la matriz resultante"
      ]
    },
    {
      "cell_type": "code",
      "metadata": {
        "id": "uHarqA8ko8Oy",
        "colab_type": "code",
        "outputId": "a86cc2ce-4901-44bc-8f19-6c9325b21f90",
        "colab": {
          "base_uri": "https://localhost:8080/",
          "height": 34
        }
      },
      "source": [
        "print(\"X_train shape: {}, X_test shape: {}.\".format(X_train_vectorized.shape, X_test_vectorized.shape))"
      ],
      "execution_count": 10,
      "outputs": [
        {
          "output_type": "stream",
          "text": [
            "X_train shape: (1600, 36073), X_test shape: (400, 36073).\n"
          ],
          "name": "stdout"
        }
      ]
    },
    {
      "cell_type": "markdown",
      "metadata": {
        "id": "WC-M9AtZvnU_",
        "colab_type": "text"
      },
      "source": [
        "__¿ Por qué tiene estas dimensiones ?__"
      ]
    },
    {
      "cell_type": "markdown",
      "metadata": {
        "id": "ORM6K1yUvnVF",
        "colab_type": "text"
      },
      "source": [
        "Porque el resultado es una matriz de términos por documentos. Por cada término existente en el dataset habrá una columna, ya que no se realizó ningún tipo de filtrado."
      ]
    },
    {
      "cell_type": "markdown",
      "metadata": {
        "id": "t7eWqsyvvnVG",
        "colab_type": "text"
      },
      "source": [
        "## Entrenando los modelos\n",
        "Una vez que tenemos una matriz con los vectores correspondientes a los documentos luego de aplicarse td-idf podemos comenzar con el proceso de entrenamiento de los modelos. Para eso, vamos a comparar diferentes algoritmos vistos como SVM, Random Forest, AdaBoost, Voting. Y todos los algoritmos complementarios que se quieran introducir. \n",
        "Para el entrenamiento de los modelos usaremos GridSearch recorriendo una lista de parámetros según corresponda a cada algoritmo. Además usaremos 5-fold CV y el scoring estará dado por el área bajo la curva roc."
      ]
    },
    {
      "cell_type": "markdown",
      "metadata": {
        "id": "vMfVGh--vnVH",
        "colab_type": "text"
      },
      "source": [
        "### Support Vector Machines (SVM)"
      ]
    },
    {
      "cell_type": "markdown",
      "metadata": {
        "id": "0eJ_9OXzvnVJ",
        "colab_type": "text"
      },
      "source": [
        "__Ajustar un SVM (kernel lineal) al conjunto de datos de entrenamiento y devolver la matriz de confusión en testing.__\n",
        "\n",
        "Basándonos en el paper https://www.csie.ntu.edu.tw/~cjlin/papers/guide/guide.pdf, vamos a utilizar un kernel lineal. Al tener menos instancias que features este es el procedimiento recomendado. \n",
        "\n",
        "Nuestro espacio de parámetros para recorrer de forma exhaustiva utilizando GridSearch será el siguiente:\n",
        "\n",
        "* C = [0.001, 0.01, 0.1, 1, 10]\n",
        "* loss = ['hinge', 'squared_hinge'] \n",
        "\n",
        "**2) Entrenar** un modelo utilizando `Grid Search` y el clasificador `LinearSVC` con `5-fold` cross validation y que utilice como `scoring` el área bajo la curva roc."
      ]
    },
    {
      "cell_type": "code",
      "metadata": {
        "id": "H3BbYJNqvnVK",
        "colab_type": "code",
        "colab": {}
      },
      "source": [
        "param_grid_svc = [\n",
        "    { 'C': [0.001, 0.01, 0.1, 1, 10], \n",
        "      'loss': ['hinge', 'squared_hinge']}\n",
        "]"
      ],
      "execution_count": 0,
      "outputs": []
    },
    {
      "cell_type": "code",
      "metadata": {
        "id": "cWr47Q-9vnVQ",
        "colab_type": "code",
        "colab": {}
      },
      "source": [
        "import pandas as pd\n",
        "from sklearn.model_selection import GridSearchCV\n",
        "from sklearn.svm import LinearSVC\n",
        "from sklearn.metrics import roc_curve, auc"
      ],
      "execution_count": 0,
      "outputs": []
    },
    {
      "cell_type": "code",
      "metadata": {
        "id": "DOwlf4yyvnVU",
        "colab_type": "code",
        "colab": {}
      },
      "source": [
        "# Importa y crea un GridSearchCV en esta celda\n",
        "svc = LinearSVC()\n",
        "grid_search_svc = GridSearchCV(svc,param_grid_svc, cv=5, \n",
        "                           scoring='roc_auc',\n",
        "                          return_train_score= True)"
      ],
      "execution_count": 0,
      "outputs": []
    },
    {
      "cell_type": "code",
      "metadata": {
        "id": "SahUpAxzvnVY",
        "colab_type": "code",
        "outputId": "646268dc-7711-44e8-9942-f9d89a54d119",
        "colab": {
          "base_uri": "https://localhost:8080/",
          "height": 204
        }
      },
      "source": [
        "# Realizá el entrenamiento en esta celda\n",
        "grid_search_svc.fit(X_train_vectorized, y_train)"
      ],
      "execution_count": 14,
      "outputs": [
        {
          "output_type": "execute_result",
          "data": {
            "text/plain": [
              "GridSearchCV(cv=5, error_score=nan,\n",
              "             estimator=LinearSVC(C=1.0, class_weight=None, dual=True,\n",
              "                                 fit_intercept=True, intercept_scaling=1,\n",
              "                                 loss='squared_hinge', max_iter=1000,\n",
              "                                 multi_class='ovr', penalty='l2',\n",
              "                                 random_state=None, tol=0.0001, verbose=0),\n",
              "             iid='deprecated', n_jobs=None,\n",
              "             param_grid=[{'C': [0.001, 0.01, 0.1, 1, 10],\n",
              "                          'loss': ['hinge', 'squared_hinge']}],\n",
              "             pre_dispatch='2*n_jobs', refit=True, return_train_score=True,\n",
              "             scoring='roc_auc', verbose=0)"
            ]
          },
          "metadata": {
            "tags": []
          },
          "execution_count": 14
        }
      ]
    },
    {
      "cell_type": "markdown",
      "metadata": {
        "id": "P9N_a_LgvnVh",
        "colab_type": "text"
      },
      "source": [
        "Veamos los resultados promediados por cada combinación de parámetros:"
      ]
    },
    {
      "cell_type": "code",
      "metadata": {
        "id": "A7csG87RquA0",
        "colab_type": "code",
        "outputId": "9a220a78-091b-4434-e620-ca1f6aa7aa22",
        "colab": {
          "base_uri": "https://localhost:8080/",
          "height": 187
        }
      },
      "source": [
        "parametros_svc= list(zip(grid_search_svc.cv_results_['mean_test_score'], grid_search_svc.cv_results_['params']))\n",
        "sorted(parametros_svc,key= lambda x: -x[0] )"
      ],
      "execution_count": 15,
      "outputs": [
        {
          "output_type": "execute_result",
          "data": {
            "text/plain": [
              "[(0.9153281249999999, {'C': 10, 'loss': 'squared_hinge'}),\n",
              " (0.9147578125000001, {'C': 10, 'loss': 'hinge'}),\n",
              " (0.9146171875, {'C': 1, 'loss': 'squared_hinge'}),\n",
              " (0.9132578125, {'C': 1, 'loss': 'hinge'}),\n",
              " (0.8931250000000001, {'C': 0.1, 'loss': 'squared_hinge'}),\n",
              " (0.8708281249999998, {'C': 0.01, 'loss': 'squared_hinge'}),\n",
              " (0.8669453125000001, {'C': 0.001, 'loss': 'squared_hinge'}),\n",
              " (0.8660468750000001, {'C': 0.001, 'loss': 'hinge'}),\n",
              " (0.8660468750000001, {'C': 0.01, 'loss': 'hinge'}),\n",
              " (0.8660468750000001, {'C': 0.1, 'loss': 'hinge'})]"
            ]
          },
          "metadata": {
            "tags": []
          },
          "execution_count": 15
        }
      ]
    },
    {
      "cell_type": "code",
      "metadata": {
        "id": "FoWj5Bj6vnVp",
        "colab_type": "code",
        "outputId": "56543ebd-cf0b-424e-af00-317b7cd1dde9",
        "colab": {
          "base_uri": "https://localhost:8080/",
          "height": 85
        }
      },
      "source": [
        "print(\"Mejor conjunto de parámetros:\", grid_search_svc.best_params_, end=\"\\n\\n\")\n",
        "print(\"Mejor score:\", grid_search_svc.best_score_, end=\"\\n\\n\")"
      ],
      "execution_count": 16,
      "outputs": [
        {
          "output_type": "stream",
          "text": [
            "Mejor conjunto de parámetros: {'C': 10, 'loss': 'squared_hinge'}\n",
            "\n",
            "Mejor score: 0.9153281249999999\n",
            "\n"
          ],
          "name": "stdout"
        }
      ]
    },
    {
      "cell_type": "code",
      "metadata": {
        "id": "Z3WTjlDvvnV6",
        "colab_type": "code",
        "outputId": "f8fe02fb-8001-4390-b594-83f39dba84be",
        "colab": {
          "base_uri": "https://localhost:8080/",
          "height": 85
        }
      },
      "source": [
        "optimised_svc = grid_search_svc.best_estimator_\n",
        "optimised_svc"
      ],
      "execution_count": 17,
      "outputs": [
        {
          "output_type": "execute_result",
          "data": {
            "text/plain": [
              "LinearSVC(C=10, class_weight=None, dual=True, fit_intercept=True,\n",
              "          intercept_scaling=1, loss='squared_hinge', max_iter=1000,\n",
              "          multi_class='ovr', penalty='l2', random_state=None, tol=0.0001,\n",
              "          verbose=0)"
            ]
          },
          "metadata": {
            "tags": []
          },
          "execution_count": 17
        }
      ]
    },
    {
      "cell_type": "code",
      "metadata": {
        "id": "akY48QhgvnV-",
        "colab_type": "code",
        "colab": {}
      },
      "source": [
        "#y_opt_pred_svc = optimised_svc.decision_function(X_test_vectorized)\n",
        "y_opt_pred_svc = optimised_svc.predict(X_test_vectorized)"
      ],
      "execution_count": 0,
      "outputs": []
    },
    {
      "cell_type": "markdown",
      "metadata": {
        "id": "jvZ7fZzqvnWC",
        "colab_type": "text"
      },
      "source": [
        "## Matriz de confusión \n",
        "Una forma de ver fácilmente el resultado de un clasificador es utilizando una matriz de confusión. A continuación\n",
        "se presenta una función para visualizar una matriz de confusión utilizando `matplotlib`."
      ]
    },
    {
      "cell_type": "code",
      "metadata": {
        "id": "TScQ15ndvnWJ",
        "colab_type": "code",
        "colab": {}
      },
      "source": [
        "import numpy as np\n",
        "import itertools\n",
        "import matplotlib.pylab as plt\n",
        "\n",
        "\n",
        "def plot_confusion_matrix(cm, classes,\n",
        "                          normalize=False,\n",
        "                          title='Confusion matrix',\n",
        "                          cmap=plt.cm.Blues):\n",
        "    \"\"\"\n",
        "    This function prints and plots the confusion matrix.\n",
        "    Normalization can be applied by setting `normalize=True`.\n",
        "    \"\"\"\n",
        "    if normalize:\n",
        "        cm = cm.astype('float') / cm.sum(axis=1)[:, np.newaxis]\n",
        "        print(\"Normalized confusion matrix\")\n",
        "    else:\n",
        "        print('Confusion matrix, without normalization')\n",
        "\n",
        "    print(cm)\n",
        "\n",
        "    plt.imshow(cm, interpolation='nearest', cmap=cmap)\n",
        "    plt.title(title)\n",
        "    plt.colorbar()\n",
        "    tick_marks = np.arange(len(classes))\n",
        "    plt.xticks(tick_marks, classes, rotation=45)\n",
        "    plt.yticks(tick_marks, classes)\n",
        "\n",
        "    fmt = '.2f' if normalize else 'd'\n",
        "    thresh = cm.max() / 2.\n",
        "    for i, j in itertools.product(range(cm.shape[0]), range(cm.shape[1])):\n",
        "        plt.text(j, i, format(cm[i, j], fmt),\n",
        "                 horizontalalignment=\"center\",\n",
        "                 color=\"white\" if cm[i, j] > thresh else \"black\")\n",
        "\n",
        "    plt.tight_layout()\n",
        "    plt.ylabel('True label')\n",
        "    plt.xlabel('Predicted label')\n",
        "    plt.show()\n",
        "\n"
      ],
      "execution_count": 0,
      "outputs": []
    },
    {
      "cell_type": "markdown",
      "metadata": {
        "id": "h3D0kYHUvnWP",
        "colab_type": "text"
      },
      "source": [
        "**3) Mostrá** los resultados de la predicción del clasificador `LinearSVC` sobre el conjunto de test con una matriz de confusión"
      ]
    },
    {
      "cell_type": "code",
      "metadata": {
        "id": "CVzgA1K6vnWQ",
        "colab_type": "code",
        "colab": {}
      },
      "source": [
        "from sklearn.metrics import confusion_matrix\n",
        "cm_svc = confusion_matrix(y_test, y_opt_pred_svc)\n",
        "classes=['neg', 'pos']"
      ],
      "execution_count": 0,
      "outputs": []
    },
    {
      "cell_type": "code",
      "metadata": {
        "id": "XZAcxFDTvnWV",
        "colab_type": "code",
        "outputId": "b688a35c-494a-46ec-f95a-257cceeda78b",
        "colab": {
          "base_uri": "https://localhost:8080/",
          "height": 362
        }
      },
      "source": [
        "plot_confusion_matrix(cm_svc, classes,\n",
        "                          normalize=False,\n",
        "                          title='Confusion matrix',\n",
        "                          cmap=plt.cm.Blues)"
      ],
      "execution_count": 21,
      "outputs": [
        {
          "output_type": "stream",
          "text": [
            "Confusion matrix, without normalization\n",
            "[[159  41]\n",
            " [ 28 172]]\n"
          ],
          "name": "stdout"
        },
        {
          "output_type": "display_data",
          "data": {
            "image/png": "[encoded data removed]",
            "text/plain": [
              "<Figure size 432x288 with 2 Axes>"
            ]
          },
          "metadata": {
            "tags": []
          }
        }
      ]
    },
    {
      "cell_type": "markdown",
      "metadata": {
        "id": "N76VqVdqvnWd",
        "colab_type": "text"
      },
      "source": [
        "**4) Calcular** el área bajo la curva ROC (AUC) en el conjunto de testing para el modelo y mostrá el `classification_report`"
      ]
    },
    {
      "cell_type": "code",
      "metadata": {
        "id": "lUpxF-nnvnWi",
        "colab_type": "code",
        "outputId": "c1efd6e0-8a80-4719-81d2-030890727b73",
        "colab": {
          "base_uri": "https://localhost:8080/",
          "height": 187
        }
      },
      "source": [
        "# Mostrá el roc_auc score y el classification_report en esta celda\n",
        "from sklearn.metrics import roc_auc_score, classification_report\n",
        "\n",
        "print('roc_auc_score =', roc_auc_score(y_test, y_opt_pred_svc))\n",
        "\n",
        "print('classification report:', classification_report(y_test, y_opt_pred_svc))"
      ],
      "execution_count": 22,
      "outputs": [
        {
          "output_type": "stream",
          "text": [
            "roc_auc_score = 0.8274999999999999\n",
            "classification report:               precision    recall  f1-score   support\n",
            "\n",
            "           0       0.85      0.80      0.82       200\n",
            "           1       0.81      0.86      0.83       200\n",
            "\n",
            "    accuracy                           0.83       400\n",
            "   macro avg       0.83      0.83      0.83       400\n",
            "weighted avg       0.83      0.83      0.83       400\n",
            "\n"
          ],
          "name": "stdout"
        }
      ]
    },
    {
      "cell_type": "markdown",
      "metadata": {
        "id": "ERi1PDr4vnW0",
        "colab_type": "text"
      },
      "source": [
        "### Random Forests\n",
        "El siguiente modelo que vamos a entrenar es utilizando la técnica de Random Forest. "
      ]
    },
    {
      "cell_type": "markdown",
      "metadata": {
        "id": "imHyBU7bvnW2",
        "colab_type": "text"
      },
      "source": [
        "__5) Usando grid search__ con cross validation (5 folds), encontrar el mejor modelo según el AUC dado el siguiente espacio de búsqueda:\n",
        "\n",
        "* n_estimators = [100, 500, 1000]\n",
        "* max_depth: [3, 7, None]\n",
        "* min_samples_split: [2, 3, 10]\n",
        "* bootstrap: [True, False]\n",
        "* criterion: [\"gini\", \"entropy\"]\n",
        "\n",
        "(puede tardar un poco la ejecución dado el tamaño del dataset)"
      ]
    },
    {
      "cell_type": "code",
      "metadata": {
        "id": "kzSmlBykvnW3",
        "colab_type": "code",
        "colab": {}
      },
      "source": [
        "from sklearn.ensemble import RandomForestClassifier\n",
        "from sklearn.datasets import make_classification"
      ],
      "execution_count": 0,
      "outputs": []
    },
    {
      "cell_type": "code",
      "metadata": {
        "id": "-TSwqtE5vnW6",
        "colab_type": "code",
        "colab": {}
      },
      "source": [
        "param_grid_rf = [\n",
        "    { 'n_estimators' : [100, 500, 1000],\n",
        "      'max_depth': [3, 7, None],\n",
        "      'min_samples_split': [2, 3, 10],\n",
        "      'bootstrap': [True, False],\n",
        "      'criterion': [\"gini\", \"entropy\"]\n",
        "    }\n",
        "]"
      ],
      "execution_count": 0,
      "outputs": []
    },
    {
      "cell_type": "code",
      "metadata": {
        "id": "vk1ck7wMvnW-",
        "colab_type": "code",
        "colab": {}
      },
      "source": [
        "# Importa y crea un GridSearchCV en esta celda\n",
        "forest = RandomForestClassifier(random_state=0)\n",
        "\n",
        "grid_search_rf = GridSearchCV(forest,param_grid_rf, cv=5, \n",
        "                           scoring='roc_auc',\n",
        "                          return_train_score= True)"
      ],
      "execution_count": 0,
      "outputs": []
    },
    {
      "cell_type": "code",
      "metadata": {
        "id": "fq1kKpuqvnXE",
        "colab_type": "code",
        "outputId": "d5d1f253-6e35-4817-d5db-f1a09308e2a0",
        "colab": {
          "base_uri": "https://localhost:8080/",
          "height": 408
        }
      },
      "source": [
        "# entrenar el modelo en esta celda\n",
        "grid_search_rf.fit(X_train_vectorized, y_train)"
      ],
      "execution_count": 26,
      "outputs": [
        {
          "output_type": "execute_result",
          "data": {
            "text/plain": [
              "GridSearchCV(cv=5, error_score=nan,\n",
              "             estimator=RandomForestClassifier(bootstrap=True, ccp_alpha=0.0,\n",
              "                                              class_weight=None,\n",
              "                                              criterion='gini', max_depth=None,\n",
              "                                              max_features='auto',\n",
              "                                              max_leaf_nodes=None,\n",
              "                                              max_samples=None,\n",
              "                                              min_impurity_decrease=0.0,\n",
              "                                              min_impurity_split=None,\n",
              "                                              min_samples_leaf=1,\n",
              "                                              min_samples_split=2,\n",
              "                                              min_weight_fraction_leaf=0.0,\n",
              "                                              n_estimators=100, n_jobs=None,\n",
              "                                              oob_score=False, random_state=0,\n",
              "                                              verbose=0, warm_start=False),\n",
              "             iid='deprecated', n_jobs=None,\n",
              "             param_grid=[{'bootstrap': [True, False],\n",
              "                          'criterion': ['gini', 'entropy'],\n",
              "                          'max_depth': [3, 7, None],\n",
              "                          'min_samples_split': [2, 3, 10],\n",
              "                          'n_estimators': [100, 500, 1000]}],\n",
              "             pre_dispatch='2*n_jobs', refit=True, return_train_score=True,\n",
              "             scoring='roc_auc', verbose=0)"
            ]
          },
          "metadata": {
            "tags": []
          },
          "execution_count": 26
        }
      ]
    },
    {
      "cell_type": "markdown",
      "metadata": {
        "id": "tawaks_CvnXJ",
        "colab_type": "text"
      },
      "source": [
        "**6) Repetir** los mismos pasos utilizados con el anterior modelo pero esta vez para `Random Forest`. Es decir, mostrar la matriz de confusión, scores, etc"
      ]
    },
    {
      "cell_type": "code",
      "metadata": {
        "id": "UYh_K9bxwxCj",
        "colab_type": "code",
        "colab": {
          "base_uri": "https://localhost:8080/",
          "height": 1000
        },
        "outputId": "37ff105b-7e1d-4fe7-9bdd-d791c0d7c494"
      },
      "source": [
        "parametros_rf= list(zip(grid_search_rf.cv_results_['mean_test_score'], grid_search_rf.cv_results_['params']))\n",
        "sorted(parametros_rf,key= lambda x: -x[0] )"
      ],
      "execution_count": 27,
      "outputs": [
        {
          "output_type": "execute_result",
          "data": {
            "text/plain": [
              "[(0.89930078125,\n",
              "  {'bootstrap': False,\n",
              "   'criterion': 'entropy',\n",
              "   'max_depth': None,\n",
              "   'min_samples_split': 2,\n",
              "   'n_estimators': 1000}),\n",
              " (0.8982382812499999,\n",
              "  {'bootstrap': False,\n",
              "   'criterion': 'entropy',\n",
              "   'max_depth': None,\n",
              "   'min_samples_split': 3,\n",
              "   'n_estimators': 1000}),\n",
              " (0.8967499999999999,\n",
              "  {'bootstrap': False,\n",
              "   'criterion': 'entropy',\n",
              "   'max_depth': None,\n",
              "   'min_samples_split': 2,\n",
              "   'n_estimators': 500}),\n",
              " (0.8962890625,\n",
              "  {'bootstrap': False,\n",
              "   'criterion': 'entropy',\n",
              "   'max_depth': None,\n",
              "   'min_samples_split': 10,\n",
              "   'n_estimators': 1000}),\n",
              " (0.8959765624999999,\n",
              "  {'bootstrap': False,\n",
              "   'criterion': 'entropy',\n",
              "   'max_depth': None,\n",
              "   'min_samples_split': 10,\n",
              "   'n_estimators': 500}),\n",
              " (0.8957421875,\n",
              "  {'bootstrap': False,\n",
              "   'criterion': 'entropy',\n",
              "   'max_depth': None,\n",
              "   'min_samples_split': 3,\n",
              "   'n_estimators': 500}),\n",
              " (0.89448046875,\n",
              "  {'bootstrap': False,\n",
              "   'criterion': 'gini',\n",
              "   'max_depth': None,\n",
              "   'min_samples_split': 3,\n",
              "   'n_estimators': 1000}),\n",
              " (0.8931445312499999,\n",
              "  {'bootstrap': False,\n",
              "   'criterion': 'gini',\n",
              "   'max_depth': None,\n",
              "   'min_samples_split': 2,\n",
              "   'n_estimators': 1000}),\n",
              " (0.8921992187500001,\n",
              "  {'bootstrap': False,\n",
              "   'criterion': 'gini',\n",
              "   'max_depth': None,\n",
              "   'min_samples_split': 3,\n",
              "   'n_estimators': 500}),\n",
              " (0.8896054687499999,\n",
              "  {'bootstrap': False,\n",
              "   'criterion': 'gini',\n",
              "   'max_depth': None,\n",
              "   'min_samples_split': 2,\n",
              "   'n_estimators': 500}),\n",
              " (0.8890742187499999,\n",
              "  {'bootstrap': True,\n",
              "   'criterion': 'entropy',\n",
              "   'max_depth': None,\n",
              "   'min_samples_split': 3,\n",
              "   'n_estimators': 1000}),\n",
              " (0.8888437500000002,\n",
              "  {'bootstrap': True,\n",
              "   'criterion': 'entropy',\n",
              "   'max_depth': None,\n",
              "   'min_samples_split': 2,\n",
              "   'n_estimators': 1000}),\n",
              " (0.8888203125,\n",
              "  {'bootstrap': False,\n",
              "   'criterion': 'gini',\n",
              "   'max_depth': None,\n",
              "   'min_samples_split': 10,\n",
              "   'n_estimators': 1000}),\n",
              " (0.8872421875000001,\n",
              "  {'bootstrap': False,\n",
              "   'criterion': 'gini',\n",
              "   'max_depth': None,\n",
              "   'min_samples_split': 10,\n",
              "   'n_estimators': 500}),\n",
              " (0.886578125,\n",
              "  {'bootstrap': True,\n",
              "   'criterion': 'entropy',\n",
              "   'max_depth': None,\n",
              "   'min_samples_split': 10,\n",
              "   'n_estimators': 1000}),\n",
              " (0.88529296875,\n",
              "  {'bootstrap': True,\n",
              "   'criterion': 'entropy',\n",
              "   'max_depth': None,\n",
              "   'min_samples_split': 2,\n",
              "   'n_estimators': 500}),\n",
              " (0.8849921875,\n",
              "  {'bootstrap': True,\n",
              "   'criterion': 'entropy',\n",
              "   'max_depth': None,\n",
              "   'min_samples_split': 3,\n",
              "   'n_estimators': 500}),\n",
              " (0.88385546875,\n",
              "  {'bootstrap': True,\n",
              "   'criterion': 'gini',\n",
              "   'max_depth': None,\n",
              "   'min_samples_split': 2,\n",
              "   'n_estimators': 1000}),\n",
              " (0.8835078125000001,\n",
              "  {'bootstrap': False,\n",
              "   'criterion': 'entropy',\n",
              "   'max_depth': None,\n",
              "   'min_samples_split': 3,\n",
              "   'n_estimators': 100}),\n",
              " (0.883390625,\n",
              "  {'bootstrap': True,\n",
              "   'criterion': 'gini',\n",
              "   'max_depth': None,\n",
              "   'min_samples_split': 10,\n",
              "   'n_estimators': 1000}),\n",
              " (0.883390625,\n",
              "  {'bootstrap': False,\n",
              "   'criterion': 'gini',\n",
              "   'max_depth': 7,\n",
              "   'min_samples_split': 3,\n",
              "   'n_estimators': 1000}),\n",
              " (0.88332421875,\n",
              "  {'bootstrap': True,\n",
              "   'criterion': 'gini',\n",
              "   'max_depth': None,\n",
              "   'min_samples_split': 3,\n",
              "   'n_estimators': 1000}),\n",
              " (0.8831875,\n",
              "  {'bootstrap': False,\n",
              "   'criterion': 'gini',\n",
              "   'max_depth': 7,\n",
              "   'min_samples_split': 2,\n",
              "   'n_estimators': 1000}),\n",
              " (0.8828671874999999,\n",
              "  {'bootstrap': True,\n",
              "   'criterion': 'entropy',\n",
              "   'max_depth': None,\n",
              "   'min_samples_split': 10,\n",
              "   'n_estimators': 500}),\n",
              " (0.8828046875,\n",
              "  {'bootstrap': True,\n",
              "   'criterion': 'entropy',\n",
              "   'max_depth': 7,\n",
              "   'min_samples_split': 3,\n",
              "   'n_estimators': 1000}),\n",
              " (0.8825078124999999,\n",
              "  {'bootstrap': False,\n",
              "   'criterion': 'gini',\n",
              "   'max_depth': 7,\n",
              "   'min_samples_split': 10,\n",
              "   'n_estimators': 1000}),\n",
              " (0.8822890624999999,\n",
              "  {'bootstrap': True,\n",
              "   'criterion': 'entropy',\n",
              "   'max_depth': 7,\n",
              "   'min_samples_split': 2,\n",
              "   'n_estimators': 1000}),\n",
              " (0.8821093750000001,\n",
              "  {'bootstrap': False,\n",
              "   'criterion': 'entropy',\n",
              "   'max_depth': 7,\n",
              "   'min_samples_split': 2,\n",
              "   'n_estimators': 500}),\n",
              " (0.8820390625,\n",
              "  {'bootstrap': False,\n",
              "   'criterion': 'entropy',\n",
              "   'max_depth': 7,\n",
              "   'min_samples_split': 2,\n",
              "   'n_estimators': 1000}),\n",
              " (0.8820312500000002,\n",
              "  {'bootstrap': False,\n",
              "   'criterion': 'entropy',\n",
              "   'max_depth': 7,\n",
              "   'min_samples_split': 3,\n",
              "   'n_estimators': 1000}),\n",
              " (0.8816328125,\n",
              "  {'bootstrap': False,\n",
              "   'criterion': 'entropy',\n",
              "   'max_depth': 7,\n",
              "   'min_samples_split': 10,\n",
              "   'n_estimators': 1000}),\n",
              " (0.8815781250000001,\n",
              "  {'bootstrap': True,\n",
              "   'criterion': 'entropy',\n",
              "   'max_depth': 7,\n",
              "   'min_samples_split': 10,\n",
              "   'n_estimators': 1000}),\n",
              " (0.8814921874999999,\n",
              "  {'bootstrap': False,\n",
              "   'criterion': 'entropy',\n",
              "   'max_depth': 7,\n",
              "   'min_samples_split': 3,\n",
              "   'n_estimators': 500}),\n",
              " (0.881484375,\n",
              "  {'bootstrap': False,\n",
              "   'criterion': 'entropy',\n",
              "   'max_depth': 7,\n",
              "   'min_samples_split': 10,\n",
              "   'n_estimators': 500}),\n",
              " (0.8814062500000001,\n",
              "  {'bootstrap': False,\n",
              "   'criterion': 'gini',\n",
              "   'max_depth': 7,\n",
              "   'min_samples_split': 2,\n",
              "   'n_estimators': 500}),\n",
              " (0.8812890624999999,\n",
              "  {'bootstrap': True,\n",
              "   'criterion': 'gini',\n",
              "   'max_depth': None,\n",
              "   'min_samples_split': 10,\n",
              "   'n_estimators': 500}),\n",
              " (0.8811562500000001,\n",
              "  {'bootstrap': False,\n",
              "   'criterion': 'gini',\n",
              "   'max_depth': 7,\n",
              "   'min_samples_split': 10,\n",
              "   'n_estimators': 500}),\n",
              " (0.88115234375,\n",
              "  {'bootstrap': True,\n",
              "   'criterion': 'gini',\n",
              "   'max_depth': None,\n",
              "   'min_samples_split': 3,\n",
              "   'n_estimators': 500}),\n",
              " (0.8811015624999999,\n",
              "  {'bootstrap': False,\n",
              "   'criterion': 'gini',\n",
              "   'max_depth': 7,\n",
              "   'min_samples_split': 3,\n",
              "   'n_estimators': 500}),\n",
              " (0.8807421875000001,\n",
              "  {'bootstrap': True,\n",
              "   'criterion': 'gini',\n",
              "   'max_depth': None,\n",
              "   'min_samples_split': 2,\n",
              "   'n_estimators': 500}),\n",
              " (0.8802304687500001,\n",
              "  {'bootstrap': False,\n",
              "   'criterion': 'entropy',\n",
              "   'max_depth': None,\n",
              "   'min_samples_split': 2,\n",
              "   'n_estimators': 100}),\n",
              " (0.8796953125,\n",
              "  {'bootstrap': True,\n",
              "   'criterion': 'entropy',\n",
              "   'max_depth': 7,\n",
              "   'min_samples_split': 3,\n",
              "   'n_estimators': 500}),\n",
              " (0.8796796875,\n",
              "  {'bootstrap': True,\n",
              "   'criterion': 'entropy',\n",
              "   'max_depth': 7,\n",
              "   'min_samples_split': 2,\n",
              "   'n_estimators': 500}),\n",
              " (0.8796523437499999,\n",
              "  {'bootstrap': False,\n",
              "   'criterion': 'entropy',\n",
              "   'max_depth': None,\n",
              "   'min_samples_split': 10,\n",
              "   'n_estimators': 100}),\n",
              " (0.8789765625000001,\n",
              "  {'bootstrap': True,\n",
              "   'criterion': 'entropy',\n",
              "   'max_depth': 7,\n",
              "   'min_samples_split': 10,\n",
              "   'n_estimators': 500}),\n",
              " (0.8786640625000001,\n",
              "  {'bootstrap': False,\n",
              "   'criterion': 'gini',\n",
              "   'max_depth': None,\n",
              "   'min_samples_split': 3,\n",
              "   'n_estimators': 100}),\n",
              " (0.8766171875,\n",
              "  {'bootstrap': True,\n",
              "   'criterion': 'gini',\n",
              "   'max_depth': 7,\n",
              "   'min_samples_split': 2,\n",
              "   'n_estimators': 1000}),\n",
              " (0.8762578124999999,\n",
              "  {'bootstrap': True,\n",
              "   'criterion': 'gini',\n",
              "   'max_depth': 7,\n",
              "   'min_samples_split': 3,\n",
              "   'n_estimators': 1000}),\n",
              " (0.8758828125000001,\n",
              "  {'bootstrap': True,\n",
              "   'criterion': 'gini',\n",
              "   'max_depth': 7,\n",
              "   'min_samples_split': 10,\n",
              "   'n_estimators': 1000}),\n",
              " (0.8757421875,\n",
              "  {'bootstrap': True,\n",
              "   'criterion': 'entropy',\n",
              "   'max_depth': 3,\n",
              "   'min_samples_split': 3,\n",
              "   'n_estimators': 1000}),\n",
              " (0.8757109375000001,\n",
              "  {'bootstrap': True,\n",
              "   'criterion': 'entropy',\n",
              "   'max_depth': 3,\n",
              "   'min_samples_split': 2,\n",
              "   'n_estimators': 1000}),\n",
              " (0.8756328124999999,\n",
              "  {'bootstrap': True,\n",
              "   'criterion': 'entropy',\n",
              "   'max_depth': 3,\n",
              "   'min_samples_split': 10,\n",
              "   'n_estimators': 1000}),\n",
              " (0.8747578125000001,\n",
              "  {'bootstrap': False,\n",
              "   'criterion': 'gini',\n",
              "   'max_depth': None,\n",
              "   'min_samples_split': 2,\n",
              "   'n_estimators': 100}),\n",
              " (0.87431640625,\n",
              "  {'bootstrap': False,\n",
              "   'criterion': 'gini',\n",
              "   'max_depth': None,\n",
              "   'min_samples_split': 10,\n",
              "   'n_estimators': 100}),\n",
              " (0.8733984375,\n",
              "  {'bootstrap': True,\n",
              "   'criterion': 'gini',\n",
              "   'max_depth': 7,\n",
              "   'min_samples_split': 2,\n",
              "   'n_estimators': 500}),\n",
              " (0.8726640625,\n",
              "  {'bootstrap': True,\n",
              "   'criterion': 'gini',\n",
              "   'max_depth': 7,\n",
              "   'min_samples_split': 10,\n",
              "   'n_estimators': 500}),\n",
              " (0.8725546874999999,\n",
              "  {'bootstrap': False,\n",
              "   'criterion': 'gini',\n",
              "   'max_depth': 3,\n",
              "   'min_samples_split': 10,\n",
              "   'n_estimators': 1000}),\n",
              " (0.8724921875,\n",
              "  {'bootstrap': True,\n",
              "   'criterion': 'gini',\n",
              "   'max_depth': 7,\n",
              "   'min_samples_split': 3,\n",
              "   'n_estimators': 500}),\n",
              " (0.8723593749999999,\n",
              "  {'bootstrap': False,\n",
              "   'criterion': 'gini',\n",
              "   'max_depth': 3,\n",
              "   'min_samples_split': 3,\n",
              "   'n_estimators': 1000}),\n",
              " (0.8723281249999999,\n",
              "  {'bootstrap': False,\n",
              "   'criterion': 'gini',\n",
              "   'max_depth': 3,\n",
              "   'min_samples_split': 2,\n",
              "   'n_estimators': 1000}),\n",
              " (0.8713359374999999,\n",
              "  {'bootstrap': False,\n",
              "   'criterion': 'entropy',\n",
              "   'max_depth': 3,\n",
              "   'min_samples_split': 10,\n",
              "   'n_estimators': 1000}),\n",
              " (0.8710625000000001,\n",
              "  {'bootstrap': False,\n",
              "   'criterion': 'entropy',\n",
              "   'max_depth': 3,\n",
              "   'min_samples_split': 3,\n",
              "   'n_estimators': 1000}),\n",
              " (0.8710234375000001,\n",
              "  {'bootstrap': False,\n",
              "   'criterion': 'entropy',\n",
              "   'max_depth': 3,\n",
              "   'min_samples_split': 2,\n",
              "   'n_estimators': 1000}),\n",
              " (0.8709609374999999,\n",
              "  {'bootstrap': False,\n",
              "   'criterion': 'gini',\n",
              "   'max_depth': 3,\n",
              "   'min_samples_split': 10,\n",
              "   'n_estimators': 500}),\n",
              " (0.870890625,\n",
              "  {'bootstrap': True,\n",
              "   'criterion': 'gini',\n",
              "   'max_depth': 3,\n",
              "   'min_samples_split': 2,\n",
              "   'n_estimators': 1000}),\n",
              " (0.8708515625000001,\n",
              "  {'bootstrap': True,\n",
              "   'criterion': 'gini',\n",
              "   'max_depth': 3,\n",
              "   'min_samples_split': 10,\n",
              "   'n_estimators': 1000}),\n",
              " (0.8708515624999998,\n",
              "  {'bootstrap': True,\n",
              "   'criterion': 'gini',\n",
              "   'max_depth': 3,\n",
              "   'min_samples_split': 3,\n",
              "   'n_estimators': 1000}),\n",
              " (0.8706328125,\n",
              "  {'bootstrap': False,\n",
              "   'criterion': 'gini',\n",
              "   'max_depth': 3,\n",
              "   'min_samples_split': 3,\n",
              "   'n_estimators': 500}),\n",
              " (0.870578125,\n",
              "  {'bootstrap': False,\n",
              "   'criterion': 'gini',\n",
              "   'max_depth': 3,\n",
              "   'min_samples_split': 2,\n",
              "   'n_estimators': 500}),\n",
              " (0.8704609375000001,\n",
              "  {'bootstrap': False,\n",
              "   'criterion': 'entropy',\n",
              "   'max_depth': 3,\n",
              "   'min_samples_split': 10,\n",
              "   'n_estimators': 500}),\n",
              " (0.8699921875,\n",
              "  {'bootstrap': False,\n",
              "   'criterion': 'entropy',\n",
              "   'max_depth': 3,\n",
              "   'min_samples_split': 2,\n",
              "   'n_estimators': 500}),\n",
              " (0.86996875,\n",
              "  {'bootstrap': False,\n",
              "   'criterion': 'entropy',\n",
              "   'max_depth': 3,\n",
              "   'min_samples_split': 3,\n",
              "   'n_estimators': 500}),\n",
              " (0.86928125,\n",
              "  {'bootstrap': True,\n",
              "   'criterion': 'entropy',\n",
              "   'max_depth': 3,\n",
              "   'min_samples_split': 3,\n",
              "   'n_estimators': 500}),\n",
              " (0.8692421875,\n",
              "  {'bootstrap': True,\n",
              "   'criterion': 'entropy',\n",
              "   'max_depth': 3,\n",
              "   'min_samples_split': 2,\n",
              "   'n_estimators': 500}),\n",
              " (0.8690781249999999,\n",
              "  {'bootstrap': True,\n",
              "   'criterion': 'entropy',\n",
              "   'max_depth': 3,\n",
              "   'min_samples_split': 10,\n",
              "   'n_estimators': 500}),\n",
              " (0.8668125,\n",
              "  {'bootstrap': True,\n",
              "   'criterion': 'entropy',\n",
              "   'max_depth': None,\n",
              "   'min_samples_split': 10,\n",
              "   'n_estimators': 100}),\n",
              " (0.865828125,\n",
              "  {'bootstrap': True,\n",
              "   'criterion': 'gini',\n",
              "   'max_depth': None,\n",
              "   'min_samples_split': 10,\n",
              "   'n_estimators': 100}),\n",
              " (0.8643671874999999,\n",
              "  {'bootstrap': False,\n",
              "   'criterion': 'entropy',\n",
              "   'max_depth': 7,\n",
              "   'min_samples_split': 2,\n",
              "   'n_estimators': 100}),\n",
              " (0.8635039062500001,\n",
              "  {'bootstrap': True,\n",
              "   'criterion': 'entropy',\n",
              "   'max_depth': None,\n",
              "   'min_samples_split': 2,\n",
              "   'n_estimators': 100}),\n",
              " (0.8634765625,\n",
              "  {'bootstrap': False,\n",
              "   'criterion': 'entropy',\n",
              "   'max_depth': 7,\n",
              "   'min_samples_split': 10,\n",
              "   'n_estimators': 100}),\n",
              " (0.8630390625000001,\n",
              "  {'bootstrap': False,\n",
              "   'criterion': 'entropy',\n",
              "   'max_depth': 7,\n",
              "   'min_samples_split': 3,\n",
              "   'n_estimators': 100}),\n",
              " (0.8625390625,\n",
              "  {'bootstrap': True,\n",
              "   'criterion': 'gini',\n",
              "   'max_depth': 3,\n",
              "   'min_samples_split': 3,\n",
              "   'n_estimators': 500}),\n",
              " (0.86253125,\n",
              "  {'bootstrap': True,\n",
              "   'criterion': 'gini',\n",
              "   'max_depth': 3,\n",
              "   'min_samples_split': 2,\n",
              "   'n_estimators': 500}),\n",
              " (0.8621796875000001,\n",
              "  {'bootstrap': True,\n",
              "   'criterion': 'gini',\n",
              "   'max_depth': 3,\n",
              "   'min_samples_split': 10,\n",
              "   'n_estimators': 500}),\n",
              " (0.8611640625,\n",
              "  {'bootstrap': False,\n",
              "   'criterion': 'gini',\n",
              "   'max_depth': 7,\n",
              "   'min_samples_split': 2,\n",
              "   'n_estimators': 100}),\n",
              " (0.8610546875,\n",
              "  {'bootstrap': True,\n",
              "   'criterion': 'gini',\n",
              "   'max_depth': None,\n",
              "   'min_samples_split': 3,\n",
              "   'n_estimators': 100}),\n",
              " (0.8608671874999999,\n",
              "  {'bootstrap': False,\n",
              "   'criterion': 'gini',\n",
              "   'max_depth': 7,\n",
              "   'min_samples_split': 3,\n",
              "   'n_estimators': 100}),\n",
              " (0.8607539062499999,\n",
              "  {'bootstrap': True,\n",
              "   'criterion': 'entropy',\n",
              "   'max_depth': None,\n",
              "   'min_samples_split': 3,\n",
              "   'n_estimators': 100}),\n",
              " (0.86053125,\n",
              "  {'bootstrap': False,\n",
              "   'criterion': 'gini',\n",
              "   'max_depth': 7,\n",
              "   'min_samples_split': 10,\n",
              "   'n_estimators': 100}),\n",
              " (0.8585,\n",
              "  {'bootstrap': False,\n",
              "   'criterion': 'gini',\n",
              "   'max_depth': 3,\n",
              "   'min_samples_split': 10,\n",
              "   'n_estimators': 100}),\n",
              " (0.8583984374999998,\n",
              "  {'bootstrap': False,\n",
              "   'criterion': 'gini',\n",
              "   'max_depth': 3,\n",
              "   'min_samples_split': 3,\n",
              "   'n_estimators': 100}),\n",
              " (0.8583749999999999,\n",
              "  {'bootstrap': False,\n",
              "   'criterion': 'gini',\n",
              "   'max_depth': 3,\n",
              "   'min_samples_split': 2,\n",
              "   'n_estimators': 100}),\n",
              " (0.8571796875000001,\n",
              "  {'bootstrap': True,\n",
              "   'criterion': 'gini',\n",
              "   'max_depth': None,\n",
              "   'min_samples_split': 2,\n",
              "   'n_estimators': 100}),\n",
              " (0.8552187499999999,\n",
              "  {'bootstrap': True,\n",
              "   'criterion': 'entropy',\n",
              "   'max_depth': 7,\n",
              "   'min_samples_split': 3,\n",
              "   'n_estimators': 100}),\n",
              " (0.8545468749999999,\n",
              "  {'bootstrap': False,\n",
              "   'criterion': 'entropy',\n",
              "   'max_depth': 3,\n",
              "   'min_samples_split': 10,\n",
              "   'n_estimators': 100}),\n",
              " (0.8541874999999999,\n",
              "  {'bootstrap': False,\n",
              "   'criterion': 'entropy',\n",
              "   'max_depth': 3,\n",
              "   'min_samples_split': 3,\n",
              "   'n_estimators': 100}),\n",
              " (0.8541640625,\n",
              "  {'bootstrap': False,\n",
              "   'criterion': 'entropy',\n",
              "   'max_depth': 3,\n",
              "   'min_samples_split': 2,\n",
              "   'n_estimators': 100}),\n",
              " (0.8539296875,\n",
              "  {'bootstrap': True,\n",
              "   'criterion': 'entropy',\n",
              "   'max_depth': 7,\n",
              "   'min_samples_split': 10,\n",
              "   'n_estimators': 100}),\n",
              " (0.8526015625,\n",
              "  {'bootstrap': True,\n",
              "   'criterion': 'entropy',\n",
              "   'max_depth': 7,\n",
              "   'min_samples_split': 2,\n",
              "   'n_estimators': 100}),\n",
              " (0.8436875,\n",
              "  {'bootstrap': True,\n",
              "   'criterion': 'gini',\n",
              "   'max_depth': 7,\n",
              "   'min_samples_split': 3,\n",
              "   'n_estimators': 100}),\n",
              " (0.8431484375,\n",
              "  {'bootstrap': True,\n",
              "   'criterion': 'gini',\n",
              "   'max_depth': 7,\n",
              "   'min_samples_split': 10,\n",
              "   'n_estimators': 100}),\n",
              " (0.8430625,\n",
              "  {'bootstrap': True,\n",
              "   'criterion': 'gini',\n",
              "   'max_depth': 7,\n",
              "   'min_samples_split': 2,\n",
              "   'n_estimators': 100}),\n",
              " (0.8302265625,\n",
              "  {'bootstrap': True,\n",
              "   'criterion': 'entropy',\n",
              "   'max_depth': 3,\n",
              "   'min_samples_split': 10,\n",
              "   'n_estimators': 100}),\n",
              " (0.8294375,\n",
              "  {'bootstrap': True,\n",
              "   'criterion': 'entropy',\n",
              "   'max_depth': 3,\n",
              "   'min_samples_split': 2,\n",
              "   'n_estimators': 100}),\n",
              " (0.8293046875,\n",
              "  {'bootstrap': True,\n",
              "   'criterion': 'entropy',\n",
              "   'max_depth': 3,\n",
              "   'min_samples_split': 3,\n",
              "   'n_estimators': 100}),\n",
              " (0.825984375,\n",
              "  {'bootstrap': True,\n",
              "   'criterion': 'gini',\n",
              "   'max_depth': 3,\n",
              "   'min_samples_split': 10,\n",
              "   'n_estimators': 100}),\n",
              " (0.8250624999999999,\n",
              "  {'bootstrap': True,\n",
              "   'criterion': 'gini',\n",
              "   'max_depth': 3,\n",
              "   'min_samples_split': 3,\n",
              "   'n_estimators': 100}),\n",
              " (0.825046875,\n",
              "  {'bootstrap': True,\n",
              "   'criterion': 'gini',\n",
              "   'max_depth': 3,\n",
              "   'min_samples_split': 2,\n",
              "   'n_estimators': 100})]"
            ]
          },
          "metadata": {
            "tags": []
          },
          "execution_count": 27
        }
      ]
    },
    {
      "cell_type": "code",
      "metadata": {
        "id": "Cnk9VF0hHzr7",
        "colab_type": "code",
        "colab": {
          "base_uri": "https://localhost:8080/",
          "height": 85
        },
        "outputId": "b76fc53b-8c3b-47ec-d392-ca0dd541f14f"
      },
      "source": [
        "print(\"Mejor conjunto de parámetros:\", grid_search_rf.best_params_, end=\"\\n\\n\")\n",
        "print(\"Mejor score:\", grid_search_rf.best_score_, end=\"\\n\\n\")\n"
      ],
      "execution_count": 28,
      "outputs": [
        {
          "output_type": "stream",
          "text": [
            "Mejor conjunto de parámetros: {'bootstrap': False, 'criterion': 'entropy', 'max_depth': None, 'min_samples_split': 2, 'n_estimators': 1000}\n",
            "\n",
            "Mejor score: 0.89930078125\n",
            "\n"
          ],
          "name": "stdout"
        }
      ]
    },
    {
      "cell_type": "code",
      "metadata": {
        "id": "8d0W5EupvnXL",
        "colab_type": "code",
        "colab": {
          "base_uri": "https://localhost:8080/",
          "height": 153
        },
        "outputId": "52e8cc5a-f91d-46bd-b227-9798495abf7c"
      },
      "source": [
        "optimised_rf = grid_search_rf.best_estimator_\n",
        "optimised_rf"
      ],
      "execution_count": 29,
      "outputs": [
        {
          "output_type": "execute_result",
          "data": {
            "text/plain": [
              "RandomForestClassifier(bootstrap=False, ccp_alpha=0.0, class_weight=None,\n",
              "                       criterion='entropy', max_depth=None, max_features='auto',\n",
              "                       max_leaf_nodes=None, max_samples=None,\n",
              "                       min_impurity_decrease=0.0, min_impurity_split=None,\n",
              "                       min_samples_leaf=1, min_samples_split=2,\n",
              "                       min_weight_fraction_leaf=0.0, n_estimators=1000,\n",
              "                       n_jobs=None, oob_score=False, random_state=0, verbose=0,\n",
              "                       warm_start=False)"
            ]
          },
          "metadata": {
            "tags": []
          },
          "execution_count": 29
        }
      ]
    },
    {
      "cell_type": "code",
      "metadata": {
        "id": "fPb8xBpov13Q",
        "colab_type": "code",
        "colab": {}
      },
      "source": [
        "y_opt_pred_rf = optimised_rf.predict(X_test_vectorized)"
      ],
      "execution_count": 0,
      "outputs": []
    },
    {
      "cell_type": "code",
      "metadata": {
        "id": "apNuuAwrxFqb",
        "colab_type": "code",
        "colab": {}
      },
      "source": [
        "cm_rf = confusion_matrix(y_test, y_opt_pred_rf)"
      ],
      "execution_count": 0,
      "outputs": []
    },
    {
      "cell_type": "code",
      "metadata": {
        "id": "oVwYoTagxJtG",
        "colab_type": "code",
        "colab": {
          "base_uri": "https://localhost:8080/",
          "height": 362
        },
        "outputId": "aff602fa-2d32-452e-83af-95d88705296e"
      },
      "source": [
        "plot_confusion_matrix(cm_rf, classes,\n",
        "                          normalize=False,\n",
        "                          title='Confusion matrix',\n",
        "                          cmap=plt.cm.Blues)"
      ],
      "execution_count": 32,
      "outputs": [
        {
          "output_type": "stream",
          "text": [
            "Confusion matrix, without normalization\n",
            "[[172  28]\n",
            " [ 35 165]]\n"
          ],
          "name": "stdout"
        },
        {
          "output_type": "display_data",
          "data": {
            "image/png": "[encoded data removed]",
            "text/plain": [
              "<Figure size 432x288 with 2 Axes>"
            ]
          },
          "metadata": {
            "tags": []
          }
        }
      ]
    },
    {
      "cell_type": "code",
      "metadata": {
        "id": "Iym7keHIxSmY",
        "colab_type": "code",
        "colab": {
          "base_uri": "https://localhost:8080/",
          "height": 187
        },
        "outputId": "a92a6c41-cfd5-46cc-952c-fe8a0d8fbf5b"
      },
      "source": [
        "print('roc_auc_score =', roc_auc_score(y_test, y_opt_pred_rf))\n",
        "print('classification report:', classification_report(y_test, y_opt_pred_rf))"
      ],
      "execution_count": 33,
      "outputs": [
        {
          "output_type": "stream",
          "text": [
            "roc_auc_score = 0.8424999999999999\n",
            "classification report:               precision    recall  f1-score   support\n",
            "\n",
            "           0       0.83      0.86      0.85       200\n",
            "           1       0.85      0.82      0.84       200\n",
            "\n",
            "    accuracy                           0.84       400\n",
            "   macro avg       0.84      0.84      0.84       400\n",
            "weighted avg       0.84      0.84      0.84       400\n",
            "\n"
          ],
          "name": "stdout"
        }
      ]
    },
    {
      "cell_type": "markdown",
      "metadata": {
        "id": "j3fTN8EOvnXP",
        "colab_type": "text"
      },
      "source": [
        "### Multilayer Perceptron"
      ]
    },
    {
      "cell_type": "markdown",
      "metadata": {
        "id": "-FvxPUbPzqeR",
        "colab_type": "text"
      },
      "source": [
        "**6) Repetir** los mismos pasos utilizados con el anterior modelo pero esta vez para `Multilayer Perceptron`. Es decir, mostrar la matriz de confusión, scores, etc\n",
        "\n",
        "El `param_grid` debe recorrer estos valores: `{'hidden_layer_sizes': [(10,),(5,5), (2,2)]}`"
      ]
    },
    {
      "cell_type": "code",
      "metadata": {
        "id": "iB8MOcJAzmi2",
        "colab_type": "code",
        "colab": {}
      },
      "source": [
        "param_grid_mp = [\n",
        "    { 'hidden_layer_sizes': [(10,),(5,5), (2,2)]   }\n",
        "]"
      ],
      "execution_count": 0,
      "outputs": []
    },
    {
      "cell_type": "code",
      "metadata": {
        "id": "Wb8aWWiNEeQz",
        "colab_type": "code",
        "colab": {}
      },
      "source": [
        "from sklearn.neural_network import MLPClassifier\n",
        "\n",
        "multiperceptron = MLPClassifier(solver='lbfgs',random_state=0)\n",
        "\n",
        "grid_search_mp = GridSearchCV(multiperceptron, param_grid_mp, cv=5, \n",
        "                           scoring='roc_auc',\n",
        "                          return_train_score= True)"
      ],
      "execution_count": 0,
      "outputs": []
    },
    {
      "cell_type": "code",
      "metadata": {
        "id": "gsiqEz-5HCru",
        "colab_type": "code",
        "colab": {
          "base_uri": "https://localhost:8080/",
          "height": 323
        },
        "outputId": "72e0cae7-5723-499e-ccd0-55e4f797980a"
      },
      "source": [
        "# Realizá el entrenamiento en esta celda\n",
        "grid_search_mp.fit(X_train_vectorized, y_train)"
      ],
      "execution_count": 36,
      "outputs": [
        {
          "output_type": "execute_result",
          "data": {
            "text/plain": [
              "GridSearchCV(cv=5, error_score=nan,\n",
              "             estimator=MLPClassifier(activation='relu', alpha=0.0001,\n",
              "                                     batch_size='auto', beta_1=0.9,\n",
              "                                     beta_2=0.999, early_stopping=False,\n",
              "                                     epsilon=1e-08, hidden_layer_sizes=(100,),\n",
              "                                     learning_rate='constant',\n",
              "                                     learning_rate_init=0.001, max_fun=15000,\n",
              "                                     max_iter=200, momentum=0.9,\n",
              "                                     n_iter_no_change=10,\n",
              "                                     nesterovs_momentum=True, power_t=0.5,\n",
              "                                     random_state=0, shuffle=True,\n",
              "                                     solver='lbfgs', tol=0.0001,\n",
              "                                     validation_fraction=0.1, verbose=False,\n",
              "                                     warm_start=False),\n",
              "             iid='deprecated', n_jobs=None,\n",
              "             param_grid=[{'hidden_layer_sizes': [(10,), (5, 5), (2, 2)]}],\n",
              "             pre_dispatch='2*n_jobs', refit=True, return_train_score=True,\n",
              "             scoring='roc_auc', verbose=0)"
            ]
          },
          "metadata": {
            "tags": []
          },
          "execution_count": 36
        }
      ]
    },
    {
      "cell_type": "code",
      "metadata": {
        "colab_type": "code",
        "id": "JboCM_Dyzip0",
        "colab": {
          "base_uri": "https://localhost:8080/",
          "height": 68
        },
        "outputId": "9d45c5e1-1d53-47d5-92b3-c7d765eb157d"
      },
      "source": [
        "parametros_mp= list(zip(grid_search_mp.cv_results_['mean_test_score'],grid_search_mp.cv_results_['params']))\n",
        "sorted(parametros_mp,key= lambda x: -x[0] )"
      ],
      "execution_count": 37,
      "outputs": [
        {
          "output_type": "execute_result",
          "data": {
            "text/plain": [
              "[(0.8939140625, {'hidden_layer_sizes': (10,)}),\n",
              " (0.8921171875, {'hidden_layer_sizes': (5, 5)}),\n",
              " (0.8746953124999999, {'hidden_layer_sizes': (2, 2)})]"
            ]
          },
          "metadata": {
            "tags": []
          },
          "execution_count": 37
        }
      ]
    },
    {
      "cell_type": "code",
      "metadata": {
        "colab_type": "code",
        "id": "CZLHt7_Ozip_",
        "colab": {
          "base_uri": "https://localhost:8080/",
          "height": 153
        },
        "outputId": "58e7291e-7ec2-49fc-b991-ff16b12f7e8e"
      },
      "source": [
        "optimised_mp = grid_search_mp.best_estimator_\n",
        "optimised_mp"
      ],
      "execution_count": 38,
      "outputs": [
        {
          "output_type": "execute_result",
          "data": {
            "text/plain": [
              "MLPClassifier(activation='relu', alpha=0.0001, batch_size='auto', beta_1=0.9,\n",
              "              beta_2=0.999, early_stopping=False, epsilon=1e-08,\n",
              "              hidden_layer_sizes=(10,), learning_rate='constant',\n",
              "              learning_rate_init=0.001, max_fun=15000, max_iter=200,\n",
              "              momentum=0.9, n_iter_no_change=10, nesterovs_momentum=True,\n",
              "              power_t=0.5, random_state=0, shuffle=True, solver='lbfgs',\n",
              "              tol=0.0001, validation_fraction=0.1, verbose=False,\n",
              "              warm_start=False)"
            ]
          },
          "metadata": {
            "tags": []
          },
          "execution_count": 38
        }
      ]
    },
    {
      "cell_type": "code",
      "metadata": {
        "colab_type": "code",
        "id": "WarbpuuTziqF",
        "colab": {}
      },
      "source": [
        "y_opt_pred_mp = optimised_mp.predict(X_test_vectorized)"
      ],
      "execution_count": 0,
      "outputs": []
    },
    {
      "cell_type": "code",
      "metadata": {
        "colab_type": "code",
        "id": "sx4zRZQEziqJ",
        "colab": {}
      },
      "source": [
        "cm_mp = confusion_matrix(y_test, y_opt_pred_mp)"
      ],
      "execution_count": 0,
      "outputs": []
    },
    {
      "cell_type": "code",
      "metadata": {
        "colab_type": "code",
        "id": "8jmkGrflziqO",
        "colab": {
          "base_uri": "https://localhost:8080/",
          "height": 362
        },
        "outputId": "3b9036bf-684a-431a-d913-384b58db5c74"
      },
      "source": [
        "plot_confusion_matrix(cm_mp, classes,\n",
        "                          normalize=False,\n",
        "                          title='Confusion matrix',\n",
        "                          cmap=plt.cm.Blues)"
      ],
      "execution_count": 41,
      "outputs": [
        {
          "output_type": "stream",
          "text": [
            "Confusion matrix, without normalization\n",
            "[[163  37]\n",
            " [ 29 171]]\n"
          ],
          "name": "stdout"
        },
        {
          "output_type": "display_data",
          "data": {
            "image/png": "[encoded data removed]",
            "text/plain": [
              "<Figure size 432x288 with 2 Axes>"
            ]
          },
          "metadata": {
            "tags": []
          }
        }
      ]
    },
    {
      "cell_type": "code",
      "metadata": {
        "colab_type": "code",
        "id": "BA8Ihy9zziqR",
        "colab": {
          "base_uri": "https://localhost:8080/",
          "height": 187
        },
        "outputId": "e32dd54a-2451-4e63-e0cd-0fa643c16263"
      },
      "source": [
        "print('roc_auc_score =', roc_auc_score(y_test, y_opt_pred_mp))\n",
        "print('classification report:', classification_report(y_test, y_opt_pred_mp))"
      ],
      "execution_count": 42,
      "outputs": [
        {
          "output_type": "stream",
          "text": [
            "roc_auc_score = 0.835\n",
            "classification report:               precision    recall  f1-score   support\n",
            "\n",
            "           0       0.85      0.81      0.83       200\n",
            "           1       0.82      0.85      0.84       200\n",
            "\n",
            "    accuracy                           0.83       400\n",
            "   macro avg       0.84      0.83      0.83       400\n",
            "weighted avg       0.84      0.83      0.83       400\n",
            "\n"
          ],
          "name": "stdout"
        }
      ]
    },
    {
      "cell_type": "markdown",
      "metadata": {
        "id": "5BAHIuJAvnXQ",
        "colab_type": "text"
      },
      "source": [
        "### AdaBoost"
      ]
    },
    {
      "cell_type": "markdown",
      "metadata": {
        "id": "RE5YKjw5vnXS",
        "colab_type": "text"
      },
      "source": [
        "**7) Repetir** los mismos pasos utilizados con el anterior modelo pero esta vez para `AdaBoost`. Es decir, mostrar la matriz de confusión, scores, etc\n",
        "\n",
        "El `param_grid` debe recorrer estos valores: `{'n_estimators': [50, 100, 500]}`\n"
      ]
    },
    {
      "cell_type": "code",
      "metadata": {
        "id": "IPaDGnlyNiav",
        "colab_type": "code",
        "colab": {}
      },
      "source": [
        "param_grid_ab = [\n",
        "    {'n_estimators': [50, 100, 500]}\n",
        "]"
      ],
      "execution_count": 0,
      "outputs": []
    },
    {
      "cell_type": "code",
      "metadata": {
        "id": "-RTK3eELNr7P",
        "colab_type": "code",
        "colab": {}
      },
      "source": [
        "from sklearn.ensemble import AdaBoostClassifier\n",
        "\n",
        "ada_clf = AdaBoostClassifier()\n",
        "\n",
        "grid_search_ab = GridSearchCV(ada_clf, param_grid_ab, cv=5, \n",
        "                           scoring='roc_auc',\n",
        "                          return_train_score= True)"
      ],
      "execution_count": 0,
      "outputs": []
    },
    {
      "cell_type": "code",
      "metadata": {
        "id": "O-Axwm6EOGvQ",
        "colab_type": "code",
        "colab": {
          "base_uri": "https://localhost:8080/",
          "height": 170
        },
        "outputId": "ad8176ba-44be-4ef3-d14d-8863f671c8d5"
      },
      "source": [
        "# Realizá el entrenamiento en esta celda\n",
        "grid_search_ab.fit(X_train_vectorized, y_train)"
      ],
      "execution_count": 45,
      "outputs": [
        {
          "output_type": "execute_result",
          "data": {
            "text/plain": [
              "GridSearchCV(cv=5, error_score=nan,\n",
              "             estimator=AdaBoostClassifier(algorithm='SAMME.R',\n",
              "                                          base_estimator=None,\n",
              "                                          learning_rate=1.0, n_estimators=50,\n",
              "                                          random_state=None),\n",
              "             iid='deprecated', n_jobs=None,\n",
              "             param_grid=[{'n_estimators': [50, 100, 500]}],\n",
              "             pre_dispatch='2*n_jobs', refit=True, return_train_score=True,\n",
              "             scoring='roc_auc', verbose=0)"
            ]
          },
          "metadata": {
            "tags": []
          },
          "execution_count": 45
        }
      ]
    },
    {
      "cell_type": "code",
      "metadata": {
        "colab_type": "code",
        "id": "QvQqnKeRLElW",
        "colab": {
          "base_uri": "https://localhost:8080/",
          "height": 68
        },
        "outputId": "8358fe99-7203-406f-e683-179848c46983"
      },
      "source": [
        "parametros_ab= list(zip(grid_search_ab.cv_results_['mean_test_score'],grid_search_ab.cv_results_['params']))\n",
        "sorted(parametros_ab,key= lambda x: -x[0] )"
      ],
      "execution_count": 46,
      "outputs": [
        {
          "output_type": "execute_result",
          "data": {
            "text/plain": [
              "[(0.8548203124999999, {'n_estimators': 500}),\n",
              " (0.8379843750000001, {'n_estimators': 100}),\n",
              " (0.8143671875, {'n_estimators': 50})]"
            ]
          },
          "metadata": {
            "tags": []
          },
          "execution_count": 46
        }
      ]
    },
    {
      "cell_type": "code",
      "metadata": {
        "colab_type": "code",
        "id": "dbWCL9-FLElr",
        "colab": {
          "base_uri": "https://localhost:8080/",
          "height": 51
        },
        "outputId": "e3bd76f9-c458-4fa5-ffbe-8b43a7466bc0"
      },
      "source": [
        "optimised_ab = grid_search_ab.best_estimator_\n",
        "optimised_ab"
      ],
      "execution_count": 47,
      "outputs": [
        {
          "output_type": "execute_result",
          "data": {
            "text/plain": [
              "AdaBoostClassifier(algorithm='SAMME.R', base_estimator=None, learning_rate=1.0,\n",
              "                   n_estimators=500, random_state=None)"
            ]
          },
          "metadata": {
            "tags": []
          },
          "execution_count": 47
        }
      ]
    },
    {
      "cell_type": "code",
      "metadata": {
        "colab_type": "code",
        "id": "UKrj8bJ0LElz",
        "colab": {}
      },
      "source": [
        "y_opt_pred_ab = optimised_ab.predict(X_test_vectorized)"
      ],
      "execution_count": 0,
      "outputs": []
    },
    {
      "cell_type": "code",
      "metadata": {
        "colab_type": "code",
        "id": "JcH7v9tZLEl4",
        "colab": {}
      },
      "source": [
        "cm_ab = confusion_matrix(y_test, y_opt_pred_mp)"
      ],
      "execution_count": 0,
      "outputs": []
    },
    {
      "cell_type": "code",
      "metadata": {
        "colab_type": "code",
        "id": "fDdLve8uLEl9",
        "colab": {
          "base_uri": "https://localhost:8080/",
          "height": 362
        },
        "outputId": "ac791a35-094d-4186-bc5e-b1f2852612c7"
      },
      "source": [
        "plot_confusion_matrix(cm_ab, classes,\n",
        "                          normalize=False,\n",
        "                          title='Confusion matrix',\n",
        "                          cmap=plt.cm.Blues)"
      ],
      "execution_count": 50,
      "outputs": [
        {
          "output_type": "stream",
          "text": [
            "Confusion matrix, without normalization\n",
            "[[163  37]\n",
            " [ 29 171]]\n"
          ],
          "name": "stdout"
        },
        {
          "output_type": "display_data",
          "data": {
            "image/png": "[encoded data removed]",
            "text/plain": [
              "<Figure size 432x288 with 2 Axes>"
            ]
          },
          "metadata": {
            "tags": []
          }
        }
      ]
    },
    {
      "cell_type": "code",
      "metadata": {
        "colab_type": "code",
        "id": "Ar8IVBAkLEmA",
        "colab": {
          "base_uri": "https://localhost:8080/",
          "height": 187
        },
        "outputId": "1b002fba-916c-4658-fce2-dba65d0fbe64"
      },
      "source": [
        "print('roc_auc_score =', roc_auc_score(y_test, y_opt_pred_ab))\n",
        "print('classification report:', classification_report(y_test, y_opt_pred_ab))"
      ],
      "execution_count": 51,
      "outputs": [
        {
          "output_type": "stream",
          "text": [
            "roc_auc_score = 0.7949999999999999\n",
            "classification report:               precision    recall  f1-score   support\n",
            "\n",
            "           0       0.82      0.76      0.79       200\n",
            "           1       0.77      0.83      0.80       200\n",
            "\n",
            "    accuracy                           0.80       400\n",
            "   macro avg       0.80      0.79      0.79       400\n",
            "weighted avg       0.80      0.80      0.79       400\n",
            "\n"
          ],
          "name": "stdout"
        }
      ]
    },
    {
      "cell_type": "markdown",
      "metadata": {
        "id": "cevckDTUvnXT",
        "colab_type": "text"
      },
      "source": [
        "__8) Armar un ensamble entre los cuatro modelos usando votación y medir el accuracy de cada uno de los modelos.__\n"
      ]
    },
    {
      "cell_type": "code",
      "metadata": {
        "id": "SziwbC5XfkFT",
        "colab_type": "code",
        "colab": {}
      },
      "source": [
        "from sklearn.ensemble import VotingClassifier"
      ],
      "execution_count": 0,
      "outputs": []
    },
    {
      "cell_type": "code",
      "metadata": {
        "id": "XPAriIKIvfK4",
        "colab_type": "code",
        "colab": {}
      },
      "source": [
        "vote_clf = VotingClassifier(estimators=[('svm', optimised_svc), ('rf', optimised_rf), ('mp', optimised_mp), ('ab', optimised_ab)], voting='hard')\n"
      ],
      "execution_count": 0,
      "outputs": []
    },
    {
      "cell_type": "code",
      "metadata": {
        "id": "XJjj22K97MBw",
        "colab_type": "code",
        "colab": {}
      },
      "source": [
        "voting = vote_clf.fit(X_train_vectorized, y_train)  "
      ],
      "execution_count": 0,
      "outputs": []
    },
    {
      "cell_type": "code",
      "metadata": {
        "colab_type": "code",
        "id": "lrmSeFwo9a6Z",
        "colab": {}
      },
      "source": [
        "y_opt_pred_vt = voting.predict(X_test_vectorized)"
      ],
      "execution_count": 0,
      "outputs": []
    },
    {
      "cell_type": "code",
      "metadata": {
        "colab_type": "code",
        "id": "D1D01Q8U9aHQ",
        "colab": {}
      },
      "source": [
        "cm_vt = confusion_matrix(y_test, y_opt_pred_vt)"
      ],
      "execution_count": 0,
      "outputs": []
    },
    {
      "cell_type": "code",
      "metadata": {
        "colab_type": "code",
        "id": "53SzRue29Ytz",
        "colab": {
          "base_uri": "https://localhost:8080/",
          "height": 362
        },
        "outputId": "5a4972fe-cd1a-41ca-97a3-481959478870"
      },
      "source": [
        "plot_confusion_matrix(cm_vt, classes,\n",
        "                          normalize=False,\n",
        "                          title='Confusion matrix',\n",
        "                          cmap=plt.cm.Blues)"
      ],
      "execution_count": 57,
      "outputs": [
        {
          "output_type": "stream",
          "text": [
            "Confusion matrix, without normalization\n",
            "[[180  20]\n",
            " [ 34 166]]\n"
          ],
          "name": "stdout"
        },
        {
          "output_type": "display_data",
          "data": {
            "image/png": "[encoded data removed]",
            "text/plain": [
              "<Figure size 432x288 with 2 Axes>"
            ]
          },
          "metadata": {
            "tags": []
          }
        }
      ]
    },
    {
      "cell_type": "code",
      "metadata": {
        "id": "96LXGYQUje9e",
        "colab_type": "code",
        "colab": {
          "base_uri": "https://localhost:8080/",
          "height": 187
        },
        "outputId": "762e2b36-4144-4970-affd-780abe24c6d1"
      },
      "source": [
        "print('roc_auc_score =', roc_auc_score(y_test, y_opt_pred_vt))\n",
        "print('classification report:', classification_report(y_test, y_opt_pred_vt))"
      ],
      "execution_count": 58,
      "outputs": [
        {
          "output_type": "stream",
          "text": [
            "roc_auc_score = 0.865\n",
            "classification report:               precision    recall  f1-score   support\n",
            "\n",
            "           0       0.84      0.90      0.87       200\n",
            "           1       0.89      0.83      0.86       200\n",
            "\n",
            "    accuracy                           0.86       400\n",
            "   macro avg       0.87      0.86      0.86       400\n",
            "weighted avg       0.87      0.86      0.86       400\n",
            "\n"
          ],
          "name": "stdout"
        }
      ]
    },
    {
      "cell_type": "code",
      "metadata": {
        "id": "5Z40JiwJPdM4",
        "colab_type": "code",
        "colab": {
          "base_uri": "https://localhost:8080/",
          "height": 102
        },
        "outputId": "d0536729-d8bb-49cb-9ded-32e3ba894229"
      },
      "source": [
        "from sklearn.metrics import accuracy_score\n",
        "\n",
        "lista_de_modelos_op = [optimised_svc,optimised_rf, optimised_mp, optimised_ab, voting]\n",
        "\n",
        "for idx, modelo in enumerate(lista_de_modelos_op):\n",
        "    y_test_pred = modelo.predict(X_test_vectorized)\n",
        "    print('roc auc score modelo ', idx, ' es ', accuracy_score(y_test, y_test_pred))"
      ],
      "execution_count": 59,
      "outputs": [
        {
          "output_type": "stream",
          "text": [
            "roc auc score modelo  0  es  0.8275\n",
            "roc auc score modelo  1  es  0.8425\n",
            "roc auc score modelo  2  es  0.835\n",
            "roc auc score modelo  3  es  0.795\n",
            "roc auc score modelo  4  es  0.865\n"
          ],
          "name": "stdout"
        }
      ]
    },
    {
      "cell_type": "markdown",
      "metadata": {
        "id": "pCIts3Qo9eqk",
        "colab_type": "text"
      },
      "source": [
        "Podemos notar, tanto por el mayor valor de accuracy, así como también del área bajo la curva roc y de un aumento de los casos mejor clasificados en la matriz de confusión, que el modelo de esemble sería el mejor clasificador. "
      ]
    },
    {
      "cell_type": "markdown",
      "metadata": {
        "id": "2Je6v8hyvnXU",
        "colab_type": "text"
      },
      "source": [
        "__9) Seleccioná el modelo__ que te haya dado el mejor score y utilizalo como tu modelo final. Reentrenalo con todos tus datos de entrenamiento.\n"
      ]
    },
    {
      "cell_type": "code",
      "metadata": {
        "id": "ufa5X6Br413u",
        "colab_type": "code",
        "colab": {}
      },
      "source": [
        "voting = vote_clf.fit(X_train_vectorized, y_train)"
      ],
      "execution_count": 0,
      "outputs": []
    },
    {
      "cell_type": "code",
      "metadata": {
        "colab_type": "code",
        "id": "LlrC1Sxn4xa6",
        "colab": {}
      },
      "source": [
        "y_opt_pred_vt = voting.predict(X_test_vectorized)"
      ],
      "execution_count": 0,
      "outputs": []
    },
    {
      "cell_type": "code",
      "metadata": {
        "id": "b1o4LPcrXzfg",
        "colab_type": "code",
        "colab": {}
      },
      "source": [
        "eclf = voting "
      ],
      "execution_count": 0,
      "outputs": []
    },
    {
      "cell_type": "code",
      "metadata": {
        "id": "k_hYD1v4vnXV",
        "colab_type": "code",
        "colab": {
          "base_uri": "https://localhost:8080/",
          "height": 34
        },
        "outputId": "76dfac3a-3572-4033-aa8e-b701610363fa"
      },
      "source": [
        "# Guardamos el modelo  \n",
        "from sklearn.externals import joblib\n",
        "joblib.dump(eclf, 'sentiment.pkl') "
      ],
      "execution_count": 63,
      "outputs": [
        {
          "output_type": "execute_result",
          "data": {
            "text/plain": [
              "['sentiment.pkl']"
            ]
          },
          "metadata": {
            "tags": []
          },
          "execution_count": 63
        }
      ]
    },
    {
      "cell_type": "markdown",
      "metadata": {
        "id": "w7xl_-xOvnXc",
        "colab_type": "text"
      },
      "source": [
        "## Clasificación de reviews de Rocky 4."
      ]
    },
    {
      "cell_type": "markdown",
      "metadata": {
        "id": "I2YJA-YTvnXe",
        "colab_type": "text"
      },
      "source": [
        "A partir de [criticas de la película Rocky 4](https://www.rottentomatoes.com/m/rocky_iv/reviews/?type=user) veamos como las clasifica nuestro mejor modelo"
      ]
    },
    {
      "cell_type": "code",
      "metadata": {
        "id": "45nNZEaPvnXf",
        "colab_type": "code",
        "colab": {}
      },
      "source": [
        "reviews_new = [\"Stallone creates credible villains worthy of his heroic character.\",\n",
        "               \"Another brilliant Rocky film, probably my favourite one out of the lot\",\n",
        "               \"Yeah, this movie sucks.\",\n",
        "               \"My favourite rocky film! So good so much heart. Slightly better than 2\",\n",
        "               \"What has this got to do with boxing. Also everyone looked like dolls. Also if you are a real true boxing fan (not casuals), you would understand that this stupidity is no description of boxing!!\",\n",
        "               \"The new film's narrative is stripped down to essentials, which gives it an emblematic quality.\",\n",
        "               \"Absurdly ridiculous, this just isn't a good movie at all\", \n",
        "               \"Very basic and predictable but still an okay movie. No special music to save this one.\", \n",
        "              \"Rocky 4 is an extremely ambitious movie that is definitely worth watching.\",\n",
        "              'Highly beautiful',\n",
        "               \"If it wasn't for the robots (WTF????), and the painfully overwritten lines of an absurdly dogmatic persuasion, then this would otherwise be nothing more than an interminable series of mildly rousing montages. There are some unintentionally funny bits though, and Dolph's Ivan showcases the best and worst of all Rocky's opponents.\",\n",
        "              \"While all aspects of realism is thrown out the window, ROCKY IV is an adrenaline rush of action and excitment, with an incredible soundtrack and arguably the best movie fight in history between Balboa and Drago\",\n",
        "              \"Just like the songs, exercise routines and repetitive clips, it seems redundant to add another installment in this already falling franchise when you clearly lack material. Rocky IV is petty, childish and seems overlong despite of its 91 minutes of run time for it merely has an idea of a TV drama episode which is stretched to a point of exhaustion. Its painful to watch Sylvester Stallone go through this enormous amount of training and hardly make a point out there. He fails on all the levels here; writer, director and actor, to deliver any loose end of the thread for the audience to hang on to. Rocky IV is predictable, loosely written and choreographed and executed unsupervised.\"]\n"
      ],
      "execution_count": 0,
      "outputs": []
    },
    {
      "cell_type": "code",
      "metadata": {
        "id": "V9CI5M2AYttl",
        "colab_type": "code",
        "colab": {}
      },
      "source": [
        "reviews_new_counts = vectorizer.transform(reviews_new)\n",
        "reviews_new_tfidf = vectorizer.transform(reviews_new)"
      ],
      "execution_count": 0,
      "outputs": []
    },
    {
      "cell_type": "code",
      "metadata": {
        "id": "YMaEIFxavnXj",
        "colab_type": "code",
        "colab": {}
      },
      "source": [
        "pred = eclf.predict(reviews_new_tfidf)"
      ],
      "execution_count": 0,
      "outputs": []
    },
    {
      "cell_type": "code",
      "metadata": {
        "id": "ntRg_Q2xvnXm",
        "colab_type": "code",
        "colab": {
          "base_uri": "https://localhost:8080/",
          "height": 479
        },
        "outputId": "0399c2ce-0b99-4e61-98cc-48e0a8d69e07"
      },
      "source": [
        "for review, category in zip(reviews_new, pred):\n",
        "    print('%r => %s \\n' % (review, movie_reviews.target_names[category]))"
      ],
      "execution_count": 67,
      "outputs": [
        {
          "output_type": "stream",
          "text": [
            "'Stallone creates credible villains worthy of his heroic character.' => neg \n",
            "\n",
            "'Another brilliant Rocky film, probably my favourite one out of the lot' => pos \n",
            "\n",
            "'Yeah, this movie sucks.' => neg \n",
            "\n",
            "'My favourite rocky film! So good so much heart. Slightly better than 2' => pos \n",
            "\n",
            "'What has this got to do with boxing. Also everyone looked like dolls. Also if you are a real true boxing fan (not casuals), you would understand that this stupidity is no description of boxing!!' => neg \n",
            "\n",
            "\"The new film's narrative is stripped down to essentials, which gives it an emblematic quality.\" => pos \n",
            "\n",
            "\"Absurdly ridiculous, this just isn't a good movie at all\" => neg \n",
            "\n",
            "'Very basic and predictable but still an okay movie. No special music to save this one.' => neg \n",
            "\n",
            "'Rocky 4 is an extremely ambitious movie that is definitely worth watching.' => pos \n",
            "\n",
            "'Highly beautiful' => pos \n",
            "\n",
            "\"If it wasn't for the robots (WTF????), and the painfully overwritten lines of an absurdly dogmatic persuasion, then this would otherwise be nothing more than an interminable series of mildly rousing montages. There are some unintentionally funny bits though, and Dolph's Ivan showcases the best and worst of all Rocky's opponents.\" => neg \n",
            "\n",
            "'While all aspects of realism is thrown out the window, ROCKY IV is an adrenaline rush of action and excitment, with an incredible soundtrack and arguably the best movie fight in history between Balboa and Drago' => pos \n",
            "\n",
            "'Just like the songs, exercise routines and repetitive clips, it seems redundant to add another installment in this already falling franchise when you clearly lack material. Rocky IV is petty, childish and seems overlong despite of its 91 minutes of run time for it merely has an idea of a TV drama episode which is stretched to a point of exhaustion. Its painful to watch Sylvester Stallone go through this enormous amount of training and hardly make a point out there. He fails on all the levels here; writer, director and actor, to deliver any loose end of the thread for the audience to hang on to. Rocky IV is predictable, loosely written and choreographed and executed unsupervised.' => neg \n",
            "\n"
          ],
          "name": "stdout"
        }
      ]
    },
    {
      "cell_type": "code",
      "metadata": {
        "id": "21oApJNeZGqo",
        "colab_type": "code",
        "colab": {}
      },
      "source": [
        "Podemos ver que el modelo utilizado, para un nuevo conjunto de opiniones, clasifica bastante bien entre críticas posivas y negativas"
      ],
      "execution_count": 0,
      "outputs": []
    }
  ]
}