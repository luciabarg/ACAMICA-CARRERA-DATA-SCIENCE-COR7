{
  "nbformat": 4,
  "nbformat_minor": 0,
  "metadata": {
    "kernelspec": {
      "name": "python3",
      "display_name": "Python 3"
    },
    "language_info": {
      "codemirror_mode": {
        "name": "ipython",
        "version": 3
      },
      "file_extension": ".py",
      "mimetype": "text/x-python",
      "name": "python",
      "nbconvert_exporter": "python",
      "pygments_lexer": "ipython3",
      "version": "3.7.6"
    },
    "colab": {
      "name": "BenitezLucia-Proyecto6.ipynb",
      "provenance": [],
      "collapsed_sections": []
    },
    "accelerator": "GPU"
  },
  "cells": [
    {
      "cell_type": "markdown",
      "metadata": {
        "id": "tYzH0Fj9ra7l",
        "colab_type": "text"
      },
      "source": [
        "# Proyecto 6: Sistemas de recomendación"
      ]
    },
    {
      "cell_type": "markdown",
      "metadata": {
        "id": "ATudn_YKra7p",
        "colab_type": "text"
      },
      "source": [
        "## Dataset"
      ]
    },
    {
      "cell_type": "markdown",
      "metadata": {
        "id": "BNPeSL-Jra7q",
        "colab_type": "text"
      },
      "source": [
        "El dataset que vamos a usar en este proyecto es el del proyecto [MovieLens](http://grouplens.org/datasets/movielens/). Estos son relevados por el grupo de investigación GroupLens de la Universidad de Minnesota. Vamos a usar la versión 100K."
      ]
    },
    {
      "cell_type": "markdown",
      "metadata": {
        "id": "kEA1GzNIra7s",
        "colab_type": "text"
      },
      "source": [
        "Está basado en un sistema de rating de 5 estrellas y texto libre para tags a partir del servicio de recomendaciones MovieLens. Contiene 100.000 ratings para 1.682 películas. Los datos fueron creados por 943 usuarios."
      ]
    },
    {
      "cell_type": "markdown",
      "metadata": {
        "id": "N3vypw5Lra7u",
        "colab_type": "text"
      },
      "source": [
        "En el [Readme](http://files.grouplens.org/datasets/movielens/ml-100k-README.txt) del dataset se puede encontrar información adicional. A continuación vamos a describir cada uno de ellos."
      ]
    },
    {
      "cell_type": "markdown",
      "metadata": {
        "id": "zQQrINQDra7v",
        "colab_type": "text"
      },
      "source": [
        "### Ratings (u.data)\n",
        "\n",
        "Cada línea representa el rating para una película para un usuario. Los ratings están basados en un sistema de 5 estrellas, con una salto de 0.5 estrellas. Los timestamps están expresados en segundos desde la medianoche de 01/1970 (UTC). El formato es:\n",
        "\n",
        "`user id | item id | rating | timestamp`"
      ]
    },
    {
      "cell_type": "markdown",
      "metadata": {
        "id": "fvDnaG90ra7x",
        "colab_type": "text"
      },
      "source": [
        "### Usuarios (u.users)\n",
        "\n",
        "Cada línea del archivo representa un usuario. Se incluye información demográfica. El formato es:\n",
        "\n",
        "`user id | age | gender | occupation | zip code`"
      ]
    },
    {
      "cell_type": "markdown",
      "metadata": {
        "id": "40dS2KOvra7y",
        "colab_type": "text"
      },
      "source": [
        "### Películas (u.item)\n",
        "\n",
        "Cada línea corresponde a una película. Puede haber inconsistencias en los nombres. El formato es:\n",
        "\n",
        "`movie id | movie title | release date | video release date | IMDb URL | generos`\n",
        "\n",
        "\n",
        "\n",
        "Las columnas con los generos son binarias indicando la presencia o ausencia de cada uno en la película. Los géneros pueden ser:\n",
        "\n",
        "* Action\n",
        "* Adventure\n",
        "* Animation\n",
        "* Children's\n",
        "* Comedy\n",
        "* Crime\n",
        "* Documentary\n",
        "* Drama\n",
        "* Fantasy\n",
        "* Film-Noir\n",
        "* Horror\n",
        "* Musical\n",
        "* Mystery\n",
        "* Romance\n",
        "* Sci-Fi\n",
        "* Thriller\n",
        "* War\n",
        "* Western\n",
        "* unknown"
      ]
    },
    {
      "cell_type": "markdown",
      "metadata": {
        "id": "AykNeRC4ra7z",
        "colab_type": "text"
      },
      "source": [
        "## Experimentación"
      ]
    },
    {
      "cell_type": "markdown",
      "metadata": {
        "id": "6_0sDnosra71",
        "colab_type": "text"
      },
      "source": [
        "Durante todo este proyecto vamos a utilizar la librería `surprise` para llevar a cabo las experimentaciones.\n",
        "\n",
        "Como se mencionó en clase, las implementaciones en esta librería tiene algunas mejoras respecto de las estrategias convencionales como SVD. Esto se traduce en una mayor cantidad de parámetros para optimizar."
      ]
    },
    {
      "cell_type": "markdown",
      "metadata": {
        "id": "QIOTUze-ra72",
        "colab_type": "text"
      },
      "source": [
        "Vamos a levantar los datos. En primer lugar, definamos el formato para poder leer los datos.\n",
        "\n",
        "**1) Utilizar** el `Reader` con el parámetro `line_format` igual a `'user item rating timestamp'` y `sep` como `'\\t'`. Guardarlo en una variable `reader`."
      ]
    },
    {
      "cell_type": "code",
      "metadata": {
        "id": "Ju9ccvS1rmP8",
        "colab_type": "code",
        "outputId": "9c333803-c95e-4bd8-a2b6-ed9e1f6be9fc",
        "colab": {
          "base_uri": "https://localhost:8080/",
          "height": 123
        }
      },
      "source": [
        "!pip install surprise"
      ],
      "execution_count": 1,
      "outputs": [
        {
          "output_type": "stream",
          "text": [
            "Requirement already satisfied: surprise in /usr/local/lib/python3.6/dist-packages (0.1)\n",
            "Requirement already satisfied: scikit-surprise in /usr/local/lib/python3.6/dist-packages (from surprise) (1.1.0)\n",
            "Requirement already satisfied: numpy>=1.11.2 in /usr/local/lib/python3.6/dist-packages (from scikit-surprise->surprise) (1.17.5)\n",
            "Requirement already satisfied: joblib>=0.11 in /usr/local/lib/python3.6/dist-packages (from scikit-surprise->surprise) (0.14.1)\n",
            "Requirement already satisfied: six>=1.10.0 in /usr/local/lib/python3.6/dist-packages (from scikit-surprise->surprise) (1.12.0)\n",
            "Requirement already satisfied: scipy>=1.0.0 in /usr/local/lib/python3.6/dist-packages (from scikit-surprise->surprise) (1.4.1)\n"
          ],
          "name": "stdout"
        }
      ]
    },
    {
      "cell_type": "code",
      "metadata": {
        "id": "G_6oZ-I9ra74",
        "colab_type": "code",
        "colab": {}
      },
      "source": [
        "from surprise import Dataset\n",
        "from surprise import Reader"
      ],
      "execution_count": 0,
      "outputs": []
    },
    {
      "cell_type": "markdown",
      "metadata": {
        "id": "0N8s3qulr-kZ",
        "colab_type": "text"
      },
      "source": [
        "Conectamos antes con el Drive:\n"
      ]
    },
    {
      "cell_type": "code",
      "metadata": {
        "id": "S7BDhyR7r6sv",
        "colab_type": "code",
        "outputId": "5ad4f4a9-9037-4438-9724-066cbc7a731a",
        "colab": {
          "base_uri": "https://localhost:8080/",
          "height": 34
        }
      },
      "source": [
        "import os\n",
        "from google.colab import drive\n",
        "drive.mount('/content/drive')"
      ],
      "execution_count": 3,
      "outputs": [
        {
          "output_type": "stream",
          "text": [
            "Drive already mounted at /content/drive; to attempt to forcibly remount, call drive.mount(\"/content/drive\", force_remount=True).\n"
          ],
          "name": "stdout"
        }
      ]
    },
    {
      "cell_type": "code",
      "metadata": {
        "id": "J701Q1jBtA8M",
        "colab_type": "code",
        "colab": {}
      },
      "source": [
        "os.chdir(\"/content/drive/My Drive/Acamica/entrega_6\")"
      ],
      "execution_count": 0,
      "outputs": []
    },
    {
      "cell_type": "markdown",
      "metadata": {
        "id": "j61UZjTeybHa",
        "colab_type": "text"
      },
      "source": [
        "Utilizando este `reader` cargar los datos:"
      ]
    },
    {
      "cell_type": "code",
      "metadata": {
        "id": "q0xsxaHvumMB",
        "colab_type": "code",
        "colab": {}
      },
      "source": [
        "reader = Reader(line_format='user item rating timestamp', sep='\\t')"
      ],
      "execution_count": 0,
      "outputs": []
    },
    {
      "cell_type": "code",
      "metadata": {
        "id": "R_TYM24qra7_",
        "colab_type": "code",
        "colab": {}
      },
      "source": [
        "data = Dataset.load_from_file('./dataset/ml-100k/u.data', reader=reader)"
      ],
      "execution_count": 0,
      "outputs": []
    },
    {
      "cell_type": "markdown",
      "metadata": {
        "id": "HAGo8MB2ra8D",
        "colab_type": "text"
      },
      "source": [
        "__2) Ejecutar una corrida inicial usando cross validation y el algoritmo SVD (5 folds). Imprimir los RMSE de testing.__"
      ]
    },
    {
      "cell_type": "code",
      "metadata": {
        "id": "AI_P8ZmhvUzt",
        "colab_type": "code",
        "colab": {}
      },
      "source": [
        "from surprise import SVD\n",
        "from surprise.model_selection import cross_validate"
      ],
      "execution_count": 0,
      "outputs": []
    },
    {
      "cell_type": "code",
      "metadata": {
        "id": "8F_QvVoyu8g-",
        "colab_type": "code",
        "outputId": "b0f8bac1-9436-4e34-84f9-c29fa5368f89",
        "colab": {
          "base_uri": "https://localhost:8080/",
          "height": 123
        }
      },
      "source": [
        "# Run 5-fold cross-validation and print results\n",
        "svd_md=cross_validate(SVD(), data, measures=['RMSE'], cv=5, verbose=True)"
      ],
      "execution_count": 8,
      "outputs": [
        {
          "output_type": "stream",
          "text": [
            "Evaluating RMSE of algorithm SVD on 5 split(s).\n",
            "\n",
            "                  Fold 1  Fold 2  Fold 3  Fold 4  Fold 5  Mean    Std     \n",
            "RMSE (testset)    0.9278  0.9352  0.9414  0.9440  0.9382  0.9373  0.0056  \n",
            "Fit time          4.25    4.26    4.14    4.24    4.23    4.23    0.04    \n",
            "Test time         0.22    0.12    0.18    0.15    0.21    0.18    0.03    \n"
          ],
          "name": "stdout"
        }
      ]
    },
    {
      "cell_type": "markdown",
      "metadata": {
        "id": "hOgMtqvHra8E",
        "colab_type": "text"
      },
      "source": [
        "__3) Evaluar el RMSE (promedio de cross validation) de testing de acuerdo a la cantidad de factores en SVD.__"
      ]
    },
    {
      "cell_type": "code",
      "metadata": {
        "id": "8nd5QVx7c8o9",
        "colab_type": "code",
        "colab": {}
      },
      "source": [
        "import pandas as pd\n",
        "import numpy as np"
      ],
      "execution_count": 0,
      "outputs": []
    },
    {
      "cell_type": "code",
      "metadata": {
        "id": "zxPvpehKxFjv",
        "colab_type": "code",
        "outputId": "36e2a080-f0a1-4a1a-c0a5-d6e4db1e3312",
        "colab": {
          "base_uri": "https://localhost:8080/",
          "height": 727
        }
      },
      "source": [
        "svd_scores_mean = []\n",
        "\n",
        "factors = np.arange(100,600,100)\n",
        "\n",
        "for fact in factors:\n",
        "    clf = SVD(n_factors = fact )\n",
        "    print('\\n  n_factors:', fact)\n",
        "    svd_md_scores = cross_validate(clf,  data, measures=['RMSE'], cv=5, verbose=True)\n",
        "    svd_scores_mean.append(np.mean(svd_md_scores['test_rmse']))"
      ],
      "execution_count": 10,
      "outputs": [
        {
          "output_type": "stream",
          "text": [
            "\n",
            "  n_factors: 100\n",
            "Evaluating RMSE of algorithm SVD on 5 split(s).\n",
            "\n",
            "                  Fold 1  Fold 2  Fold 3  Fold 4  Fold 5  Mean    Std     \n",
            "RMSE (testset)    0.9342  0.9393  0.9360  0.9345  0.9349  0.9358  0.0019  \n",
            "Fit time          4.24    4.17    4.19    4.15    4.15    4.18    0.03    \n",
            "Test time         0.12    0.12    0.19    0.13    0.14    0.14    0.03    \n",
            "\n",
            "  n_factors: 200\n",
            "Evaluating RMSE of algorithm SVD on 5 split(s).\n",
            "\n",
            "                  Fold 1  Fold 2  Fold 3  Fold 4  Fold 5  Mean    Std     \n",
            "RMSE (testset)    0.9461  0.9387  0.9414  0.9411  0.9439  0.9422  0.0025  \n",
            "Fit time          7.34    7.36    7.43    7.37    7.45    7.39    0.04    \n",
            "Test time         0.13    0.22    0.17    0.22    0.17    0.18    0.03    \n",
            "\n",
            "  n_factors: 300\n",
            "Evaluating RMSE of algorithm SVD on 5 split(s).\n",
            "\n",
            "                  Fold 1  Fold 2  Fold 3  Fold 4  Fold 5  Mean    Std     \n",
            "RMSE (testset)    0.9465  0.9455  0.9494  0.9456  0.9449  0.9464  0.0016  \n",
            "Fit time          12.26   12.10   12.14   12.08   12.06   12.13   0.07    \n",
            "Test time         0.20    0.17    0.22    0.14    0.22    0.19    0.03    \n",
            "\n",
            "  n_factors: 400\n",
            "Evaluating RMSE of algorithm SVD on 5 split(s).\n",
            "\n",
            "                  Fold 1  Fold 2  Fold 3  Fold 4  Fold 5  Mean    Std     \n",
            "RMSE (testset)    0.9538  0.9507  0.9529  0.9508  0.9480  0.9512  0.0020  \n",
            "Fit time          18.84   18.73   19.04   19.11   19.21   18.99   0.18    \n",
            "Test time         0.17    0.22    0.14    0.23    0.15    0.18    0.03    \n",
            "\n",
            "  n_factors: 500\n",
            "Evaluating RMSE of algorithm SVD on 5 split(s).\n",
            "\n",
            "                  Fold 1  Fold 2  Fold 3  Fold 4  Fold 5  Mean    Std     \n",
            "RMSE (testset)    0.9468  0.9566  0.9574  0.9526  0.9578  0.9542  0.0042  \n",
            "Fit time          25.48   25.32   25.36   25.56   25.37   25.42   0.09    \n",
            "Test time         0.16    0.25    0.16    0.22    0.17    0.19    0.04    \n"
          ],
          "name": "stdout"
        }
      ]
    },
    {
      "cell_type": "markdown",
      "metadata": {
        "id": "DkZqoScJra8G",
        "colab_type": "text"
      },
      "source": [
        "__4) Graficar los promedios RMSE del conjunto de testing de acuerdo a la cantidad de factores en SVD.__ "
      ]
    },
    {
      "cell_type": "code",
      "metadata": {
        "id": "42AsCG8AhP3y",
        "colab_type": "code",
        "outputId": "17b6676c-331f-4295-c0ed-e1ac3e7090f7",
        "colab": {
          "base_uri": "https://localhost:8080/",
          "height": 282
        }
      },
      "source": [
        "import matplotlib.pyplot as plt\n",
        "\n",
        "plt.plot(factors,svd_scores_mean, label = 'Scores Train')\n",
        "plt.legend()\n",
        "plt.ylabel('rmse')\n",
        "plt.xlabel('factores')\n",
        "plt.show()"
      ],
      "execution_count": 11,
      "outputs": [
        {
          "output_type": "display_data",
          "data": {
            "image/png": "[encoded data removed]",
            "text/plain": [
              "<Figure size 432x288 with 1 Axes>"
            ]
          },
          "metadata": {
            "tags": []
          }
        }
      ]
    },
    {
      "cell_type": "markdown",
      "metadata": {
        "id": "Uisq3Hx0ra8H",
        "colab_type": "text"
      },
      "source": [
        "__5) Usando GridSearch, encontrar el mejor estimador usando SVD con 500 factores. Imprimir el mejor rmse. Utilizar `refit` para obtener obtener el mejor estimador ya ajustado como resultado.__\n",
        "\n",
        "Utilizar el espacio de parámetros:\n",
        "* n_epochs: [5, 10]\n",
        "* lr_all: [0.002, 0.005]\n",
        "* reg_all: [0.4, 0.6]\n"
      ]
    },
    {
      "cell_type": "code",
      "metadata": {
        "id": "t8knIeR425bv",
        "colab_type": "code",
        "colab": {}
      },
      "source": [
        "from surprise.model_selection import GridSearchCV\n",
        "\n",
        "param_grid = { 'n_factors': [500],\n",
        "               'n_epochs': [5, 10], \n",
        "               'lr_all': [0.002, 0.005],\n",
        "               'reg_all': [0.4, 0.6]}\n",
        "\n",
        "              \n",
        "\n",
        "gs = GridSearchCV(SVD, param_grid, measures=['rmse'], cv=5,  refit=True)\n",
        "\n",
        "gs.fit(data)"
      ],
      "execution_count": 0,
      "outputs": []
    },
    {
      "cell_type": "code",
      "metadata": {
        "id": "O5t7f342ra8I",
        "colab_type": "code",
        "outputId": "1c426330-8dde-4616-ae71-33d93c3804ff",
        "colab": {
          "base_uri": "https://localhost:8080/",
          "height": 34
        }
      },
      "source": [
        "print(gs.best_params['rmse'])"
      ],
      "execution_count": 13,
      "outputs": [
        {
          "output_type": "stream",
          "text": [
            "{'n_factors': 500, 'n_epochs': 10, 'lr_all': 0.005, 'reg_all': 0.4}\n"
          ],
          "name": "stdout"
        }
      ]
    },
    {
      "cell_type": "code",
      "metadata": {
        "id": "NTYE-VJ_ra8M",
        "colab_type": "code",
        "outputId": "658a637f-c9e6-473f-82b0-1e5db5f3e8aa",
        "colab": {
          "base_uri": "https://localhost:8080/",
          "height": 34
        }
      },
      "source": [
        "print(gs.best_score['rmse'])"
      ],
      "execution_count": 14,
      "outputs": [
        {
          "output_type": "stream",
          "text": [
            "0.9615871395879237\n"
          ],
          "name": "stdout"
        }
      ]
    },
    {
      "cell_type": "markdown",
      "metadata": {
        "id": "OZ3_vW0Cra8Q",
        "colab_type": "text"
      },
      "source": [
        "__6) Obtener una predicción para el usuario 321 para la película Titanic.__"
      ]
    },
    {
      "cell_type": "code",
      "metadata": {
        "id": "5xp09Kzlm-3B",
        "colab_type": "code",
        "outputId": "a1ed4aa0-6bb3-48fa-cd2b-ab4fbe42b0f6",
        "colab": {
          "base_uri": "https://localhost:8080/",
          "height": 197
        }
      },
      "source": [
        "items = pd.read_table('./dataset/ml-100k/u.item', sep=\"|\", header=None, encoding='latin-1')\n",
        "items.head()"
      ],
      "execution_count": 15,
      "outputs": [
        {
          "output_type": "execute_result",
          "data": {
            "text/html": [
              "<div>\n",
              "<style scoped>\n",
              "    .dataframe tbody tr th:only-of-type {\n",
              "        vertical-align: middle;\n",
              "    }\n",
              "\n",
              "    .dataframe tbody tr th {\n",
              "        vertical-align: top;\n",
              "    }\n",
              "\n",
              "    .dataframe thead th {\n",
              "        text-align: right;\n",
              "    }\n",
              "</style>\n",
              "<table border=\"1\" class=\"dataframe\">\n",
              "  <thead>\n",
              "    <tr style=\"text-align: right;\">\n",
              "      <th></th>\n",
              "      <th>0</th>\n",
              "      <th>1</th>\n",
              "      <th>2</th>\n",
              "      <th>3</th>\n",
              "      <th>4</th>\n",
              "      <th>5</th>\n",
              "      <th>6</th>\n",
              "      <th>7</th>\n",
              "      <th>8</th>\n",
              "      <th>9</th>\n",
              "      <th>10</th>\n",
              "      <th>11</th>\n",
              "      <th>12</th>\n",
              "      <th>13</th>\n",
              "      <th>14</th>\n",
              "      <th>15</th>\n",
              "      <th>16</th>\n",
              "      <th>17</th>\n",
              "      <th>18</th>\n",
              "      <th>19</th>\n",
              "      <th>20</th>\n",
              "      <th>21</th>\n",
              "      <th>22</th>\n",
              "      <th>23</th>\n",
              "    </tr>\n",
              "  </thead>\n",
              "  <tbody>\n",
              "    <tr>\n",
              "      <th>0</th>\n",
              "      <td>1</td>\n",
              "      <td>Toy Story (1995)</td>\n",
              "      <td>01-Jan-1995</td>\n",
              "      <td>NaN</td>\n",
              "      <td>http://us.imdb.com/M/title-exact?Toy%20Story%2...</td>\n",
              "      <td>0</td>\n",
              "      <td>0</td>\n",
              "      <td>0</td>\n",
              "      <td>1</td>\n",
              "      <td>1</td>\n",
              "      <td>1</td>\n",
              "      <td>0</td>\n",
              "      <td>0</td>\n",
              "      <td>0</td>\n",
              "      <td>0</td>\n",
              "      <td>0</td>\n",
              "      <td>0</td>\n",
              "      <td>0</td>\n",
              "      <td>0</td>\n",
              "      <td>0</td>\n",
              "      <td>0</td>\n",
              "      <td>0</td>\n",
              "      <td>0</td>\n",
              "      <td>0</td>\n",
              "    </tr>\n",
              "    <tr>\n",
              "      <th>1</th>\n",
              "      <td>2</td>\n",
              "      <td>GoldenEye (1995)</td>\n",
              "      <td>01-Jan-1995</td>\n",
              "      <td>NaN</td>\n",
              "      <td>http://us.imdb.com/M/title-exact?GoldenEye%20(...</td>\n",
              "      <td>0</td>\n",
              "      <td>1</td>\n",
              "      <td>1</td>\n",
              "      <td>0</td>\n",
              "      <td>0</td>\n",
              "      <td>0</td>\n",
              "      <td>0</td>\n",
              "      <td>0</td>\n",
              "      <td>0</td>\n",
              "      <td>0</td>\n",
              "      <td>0</td>\n",
              "      <td>0</td>\n",
              "      <td>0</td>\n",
              "      <td>0</td>\n",
              "      <td>0</td>\n",
              "      <td>0</td>\n",
              "      <td>1</td>\n",
              "      <td>0</td>\n",
              "      <td>0</td>\n",
              "    </tr>\n",
              "    <tr>\n",
              "      <th>2</th>\n",
              "      <td>3</td>\n",
              "      <td>Four Rooms (1995)</td>\n",
              "      <td>01-Jan-1995</td>\n",
              "      <td>NaN</td>\n",
              "      <td>http://us.imdb.com/M/title-exact?Four%20Rooms%...</td>\n",
              "      <td>0</td>\n",
              "      <td>0</td>\n",
              "      <td>0</td>\n",
              "      <td>0</td>\n",
              "      <td>0</td>\n",
              "      <td>0</td>\n",
              "      <td>0</td>\n",
              "      <td>0</td>\n",
              "      <td>0</td>\n",
              "      <td>0</td>\n",
              "      <td>0</td>\n",
              "      <td>0</td>\n",
              "      <td>0</td>\n",
              "      <td>0</td>\n",
              "      <td>0</td>\n",
              "      <td>0</td>\n",
              "      <td>1</td>\n",
              "      <td>0</td>\n",
              "      <td>0</td>\n",
              "    </tr>\n",
              "    <tr>\n",
              "      <th>3</th>\n",
              "      <td>4</td>\n",
              "      <td>Get Shorty (1995)</td>\n",
              "      <td>01-Jan-1995</td>\n",
              "      <td>NaN</td>\n",
              "      <td>http://us.imdb.com/M/title-exact?Get%20Shorty%...</td>\n",
              "      <td>0</td>\n",
              "      <td>1</td>\n",
              "      <td>0</td>\n",
              "      <td>0</td>\n",
              "      <td>0</td>\n",
              "      <td>1</td>\n",
              "      <td>0</td>\n",
              "      <td>0</td>\n",
              "      <td>1</td>\n",
              "      <td>0</td>\n",
              "      <td>0</td>\n",
              "      <td>0</td>\n",
              "      <td>0</td>\n",
              "      <td>0</td>\n",
              "      <td>0</td>\n",
              "      <td>0</td>\n",
              "      <td>0</td>\n",
              "      <td>0</td>\n",
              "      <td>0</td>\n",
              "    </tr>\n",
              "    <tr>\n",
              "      <th>4</th>\n",
              "      <td>5</td>\n",
              "      <td>Copycat (1995)</td>\n",
              "      <td>01-Jan-1995</td>\n",
              "      <td>NaN</td>\n",
              "      <td>http://us.imdb.com/M/title-exact?Copycat%20(1995)</td>\n",
              "      <td>0</td>\n",
              "      <td>0</td>\n",
              "      <td>0</td>\n",
              "      <td>0</td>\n",
              "      <td>0</td>\n",
              "      <td>0</td>\n",
              "      <td>1</td>\n",
              "      <td>0</td>\n",
              "      <td>1</td>\n",
              "      <td>0</td>\n",
              "      <td>0</td>\n",
              "      <td>0</td>\n",
              "      <td>0</td>\n",
              "      <td>0</td>\n",
              "      <td>0</td>\n",
              "      <td>0</td>\n",
              "      <td>1</td>\n",
              "      <td>0</td>\n",
              "      <td>0</td>\n",
              "    </tr>\n",
              "  </tbody>\n",
              "</table>\n",
              "</div>"
            ],
            "text/plain": [
              "   0                  1            2   3   ... 20  21  22  23\n",
              "0   1   Toy Story (1995)  01-Jan-1995 NaN  ...  0   0   0   0\n",
              "1   2   GoldenEye (1995)  01-Jan-1995 NaN  ...  0   1   0   0\n",
              "2   3  Four Rooms (1995)  01-Jan-1995 NaN  ...  0   1   0   0\n",
              "3   4  Get Shorty (1995)  01-Jan-1995 NaN  ...  0   0   0   0\n",
              "4   5     Copycat (1995)  01-Jan-1995 NaN  ...  0   1   0   0\n",
              "\n",
              "[5 rows x 24 columns]"
            ]
          },
          "metadata": {
            "tags": []
          },
          "execution_count": 15
        }
      ]
    },
    {
      "cell_type": "code",
      "metadata": {
        "id": "sSepI6aepdD3",
        "colab_type": "code",
        "colab": {
          "base_uri": "https://localhost:8080/",
          "height": 77
        },
        "outputId": "12a5e635-cb8a-4312-ec18-270baf5ab278"
      },
      "source": [
        "titanic_row= items[items[1].str.contains(\"Titanic\")]\n",
        "titanic_row"
      ],
      "execution_count": 16,
      "outputs": [
        {
          "output_type": "execute_result",
          "data": {
            "text/html": [
              "<div>\n",
              "<style scoped>\n",
              "    .dataframe tbody tr th:only-of-type {\n",
              "        vertical-align: middle;\n",
              "    }\n",
              "\n",
              "    .dataframe tbody tr th {\n",
              "        vertical-align: top;\n",
              "    }\n",
              "\n",
              "    .dataframe thead th {\n",
              "        text-align: right;\n",
              "    }\n",
              "</style>\n",
              "<table border=\"1\" class=\"dataframe\">\n",
              "  <thead>\n",
              "    <tr style=\"text-align: right;\">\n",
              "      <th></th>\n",
              "      <th>0</th>\n",
              "      <th>1</th>\n",
              "      <th>2</th>\n",
              "      <th>3</th>\n",
              "      <th>4</th>\n",
              "      <th>5</th>\n",
              "      <th>6</th>\n",
              "      <th>7</th>\n",
              "      <th>8</th>\n",
              "      <th>9</th>\n",
              "      <th>10</th>\n",
              "      <th>11</th>\n",
              "      <th>12</th>\n",
              "      <th>13</th>\n",
              "      <th>14</th>\n",
              "      <th>15</th>\n",
              "      <th>16</th>\n",
              "      <th>17</th>\n",
              "      <th>18</th>\n",
              "      <th>19</th>\n",
              "      <th>20</th>\n",
              "      <th>21</th>\n",
              "      <th>22</th>\n",
              "      <th>23</th>\n",
              "    </tr>\n",
              "  </thead>\n",
              "  <tbody>\n",
              "    <tr>\n",
              "      <th>312</th>\n",
              "      <td>313</td>\n",
              "      <td>Titanic (1997)</td>\n",
              "      <td>01-Jan-1997</td>\n",
              "      <td>NaN</td>\n",
              "      <td>http://us.imdb.com/M/title-exact?imdb-title-12...</td>\n",
              "      <td>0</td>\n",
              "      <td>1</td>\n",
              "      <td>0</td>\n",
              "      <td>0</td>\n",
              "      <td>0</td>\n",
              "      <td>0</td>\n",
              "      <td>0</td>\n",
              "      <td>0</td>\n",
              "      <td>1</td>\n",
              "      <td>0</td>\n",
              "      <td>0</td>\n",
              "      <td>0</td>\n",
              "      <td>0</td>\n",
              "      <td>0</td>\n",
              "      <td>1</td>\n",
              "      <td>0</td>\n",
              "      <td>0</td>\n",
              "      <td>0</td>\n",
              "      <td>0</td>\n",
              "    </tr>\n",
              "  </tbody>\n",
              "</table>\n",
              "</div>"
            ],
            "text/plain": [
              "      0               1            2   3   ... 20  21  22  23\n",
              "312  313  Titanic (1997)  01-Jan-1997 NaN  ...  0   0   0   0\n",
              "\n",
              "[1 rows x 24 columns]"
            ]
          },
          "metadata": {
            "tags": []
          },
          "execution_count": 16
        }
      ]
    },
    {
      "cell_type": "code",
      "metadata": {
        "id": "UOfAjP7CNQ94",
        "colab_type": "code",
        "colab": {
          "base_uri": "https://localhost:8080/",
          "height": 34
        },
        "outputId": "97ee422f-221d-41fd-bb8b-8efb81ba9550"
      },
      "source": [
        "indice=titanic_row.iloc[0][0]\n",
        "indice"
      ],
      "execution_count": 17,
      "outputs": [
        {
          "output_type": "execute_result",
          "data": {
            "text/plain": [
              "313"
            ]
          },
          "metadata": {
            "tags": []
          },
          "execution_count": 17
        }
      ]
    },
    {
      "cell_type": "code",
      "metadata": {
        "id": "083RN_AFfoAj",
        "colab_type": "code",
        "outputId": "0af765b3-a43f-4094-af2c-c1bf094aeb3e",
        "colab": {
          "base_uri": "https://localhost:8080/",
          "height": 34
        }
      },
      "source": [
        "uid = str(321)  # raw user id. \n",
        "iid = indice  # raw item id. \n",
        "\n",
        "# get a prediction for specific users and items.\n",
        "pred = gs.predict(uid, iid)\n",
        "pred"
      ],
      "execution_count": 18,
      "outputs": [
        {
          "output_type": "execute_result",
          "data": {
            "text/plain": [
              "Prediction(uid='321', iid=313, r_ui=None, est=3.4700999233210608, details={'was_impossible': False})"
            ]
          },
          "metadata": {
            "tags": []
          },
          "execution_count": 18
        }
      ]
    },
    {
      "cell_type": "markdown",
      "metadata": {
        "id": "dO5l9uB3ra8R",
        "colab_type": "text"
      },
      "source": [
        "7) Desarrollar una función que dado un usuario, obtenga la mejor predicción disponible (de acuerdo a nuestros datos de películas).\n"
      ]
    },
    {
      "cell_type": "code",
      "metadata": {
        "id": "o_V7_0zUq09O",
        "colab_type": "code",
        "colab": {}
      },
      "source": [
        "from collections import defaultdict\n",
        "\n",
        "def get_top_n(predictions, n=1):\n",
        "    '''Return the top-N recommendation for each user from a set of predictions.\n",
        "\n",
        "    Args:\n",
        "        predictions(list of Prediction objects): The list of predictions, as\n",
        "            returned by the test method of an algorithm.\n",
        "        n(int): The number of recommendation to output for each user. Default\n",
        "            is 10.\n",
        "\n",
        "    Returns:\n",
        "    A dict where keys are user (raw) ids and values are lists of tuples:\n",
        "        [(raw item id, rating estimation), ...] of size n.\n",
        "    '''\n",
        "\n",
        "    # First map the predictions to each user.\n",
        "    top_n = defaultdict(list)\n",
        "    for uid, iid, true_r, est, _ in predictions:\n",
        "        top_n[uid].append((iid, est))\n",
        "\n",
        "    # Then sort the predictions for each user and retrieve the k highest ones.\n",
        "    for uid, user_ratings in top_n.items():\n",
        "        user_ratings.sort(key=lambda x: x[1], reverse=True)\n",
        "        top_n[uid] = user_ratings[:n]\n",
        "\n",
        "    return top_n\n",
        "\n",
        "\n",
        "# First train an SVD algorithm on the movielens dataset.\n",
        "trainset = data.build_full_trainset()\n",
        "algo = SVD()\n",
        "algo.fit(trainset)\n",
        "\n",
        "# Than predict ratings for all pairs (u, i) that are NOT in the training set.\n",
        "testset = trainset.build_anti_testset()\n",
        "predictions = algo.test(testset)\n",
        "\n",
        "top_n = get_top_n(predictions, n=1)\n",
        "\n",
        "# If you want to print all the recommended items for each user:\n",
        "#for uid, user_ratings in top_n.items():\n",
        "#  print(uid, [iid for (iid, _) in user_ratings])"
      ],
      "execution_count": 0,
      "outputs": []
    },
    {
      "cell_type": "code",
      "metadata": {
        "id": "0Vl-TSvNxf_u",
        "colab_type": "code",
        "outputId": "8c28bdf8-c4dc-48cc-8880-b42015cfb598",
        "colab": {
          "base_uri": "https://localhost:8080/",
          "height": 54
        }
      },
      "source": [
        "top_n.items()"
      ],
      "execution_count": 20,
      "outputs": [
        {
          "output_type": "execute_result",
          "data": {
            "text/plain": [
              "dict_items([('196', [('127', 4.659000472990521)]), ('186', [('318', 4.722651791399849)]), ('22', [('64', 4.744909681504982)]), ('244', [('134', 5)]), ('166', [('169', 5)]), ('298', [('64', 4.7532408339074985)]), ('115', [('474', 5)]), ('253', [('174', 4.953507899084287)]), ('305', [('647', 4.240542498644272)]), ('6', [('603', 4.564901060866121)]), ('62', [('169', 4.444748411381351)]), ('286', [('318', 5)]), ('200', [('302', 5)]), ('210', [('318', 4.89466508751204)]), ('224', [('64', 4.253286873625315)]), ('303', [('313', 5)]), ('122', [('483', 4.870184643480375)]), ('194', [('313', 4.080062408112447)]), ('291', [('318', 5)]), ('234', [('169', 4.025901834117716)]), ('119', [('98', 5)]), ('167', [('408', 4.465706414913363)]), ('299', [('199', 4.501472553169904)]), ('308', [('114', 4.74053510851313)]), ('95', [('12', 4.826049264762587)]), ('38', [('143', 5)]), ('102', [('169', 3.7085035426006896)]), ('63', [('192', 4.287529373403955)]), ('160', [('12', 4.808514432172036)]), ('50', [('408', 4.661537496404619)]), ('301', [('169', 4.887371879916516)]), ('225', [('657', 5)]), ('290', [('173', 4.459659876684023)]), ('97', [('127', 4.6956803611789235)]), ('157', [('357', 5)]), ('181', [('22', 3.047318678755782)]), ('278', [('483', 5)]), ('276', [('480', 4.735943318227296)]), ('7', [('408', 4.888806902694451)]), ('10', [('408', 5)]), ('284', [('187', 4.7351104453029675)]), ('201', [('60', 4.299608539688615)]), ('287', [('512', 5)]), ('246', [('134', 4.351958346141615)]), ('242', [('98', 5)]), ('249', [('474', 5)]), ('99', [('318', 4.838727778235025)]), ('178', [('963', 4.749054758780151)]), ('251', [('408', 4.82761630669826)]), ('81', [('357', 4.529867401437351)]), ('260', [('474', 5)]), ('25', [('603', 4.614355400013504)]), ('59', [('408', 4.971542381165702)]), ('72', [('313', 4.60540648530219)]), ('87', [('408', 4.8672826906462126)]), ('42', [('22', 4.580242997607202)]), ('292', [('12', 4.98826566449312)]), ('20', [('408', 4.305180318755649)]), ('13', [('169', 4.807103119492891)]), ('138', [('127', 4.922807239775812)]), ('60', [('408', 4.9515921935543314)]), ('57', [('313', 4.800476075637552)]), ('223', [('515', 4.330763914282052)]), ('189', [('114', 4.762153446749789)]), ('243', [('408', 4.62448193738315)]), ('92', [('127', 4.728937916446387)]), ('241', [('98', 4.702368294406779)]), ('254', [('96', 4.218996272074985)]), ('293', [('475', 4.244508879809962)]), ('127', [('208', 5)]), ('222', [('114', 4.4797744242312145)]), ('267', [('357', 5)]), ('11', [('272', 4.520863454609005)]), ('8', [('483', 4.765453198594982)]), ('162', [('408', 4.662036010318469)]), ('279', [('511', 4.496806790587203)]), ('145', [('114', 4.726393308624544)]), ('28', [('169', 4.878243665250372)]), ('135', [('318', 4.530756007300805)]), ('32', [('64', 4.553003007727744)]), ('90', [('408', 4.954199636349017)]), ('216', [('272', 4.776445112982838)]), ('250', [('483', 4.943353564640498)]), ('271', [('483', 4.635359988467675)]), ('265', [('98', 4.681840322245897)]), ('198', [('12', 4.240589745971512)]), ('168', [('96', 4.7367106227157265)]), ('110', [('318', 4.134658430525565)]), ('58', [('114', 4.642183887598701)]), ('237', [('484', 4.588095792384075)]), ('94', [('408', 5)]), ('128', [('313', 4.829704829413636)]), ('44', [('483', 4.748871590328596)]), ('264', [('474', 5)]), ('41', [('408', 4.674711298508321)]), ('82', [('313', 4.20583091352669)]), ('262', [('408', 4.320086043933481)]), ('174', [('48', 5)]), ('43', [('22', 4.720753922169691)]), ('84', [('178', 4.889251009082495)]), ('269', [('652', 4.525558323839308)]), ('259', [('64', 4.87803132036898)]), ('85', [('178', 4.19797662636583)]), ('213', [('191', 5)]), ('121', [('173', 4.540421769049754)]), ('49', [('474', 4.650974248106503)]), ('155', [('98', 4.211673532849765)]), ('68', [('408', 4.387103728467524)]), ('172', [('22', 4.170957170669171)]), ('19', [('408', 4.571461240648403)]), ('268', [('187', 4.2330092373015)]), ('5', [('114', 4.31951162230789)]), ('80', [('515', 4.516999894353784)]), ('66', [('313', 4.677615261915603)]), ('18', [('657', 4.645790179668675)]), ('26', [('318', 4.245044711304446)]), ('130', [('603', 5)]), ('256', [('603', 5)]), ('1', [('357', 4.903725021058262)]), ('56', [('12', 4.566095074628762)]), ('15', [('64', 4.258360255800587)]), ('207', [('603', 4.070103098965026)]), ('232', [('513', 4.696867710643468)]), ('52', [('603', 5)]), ('161', [('169', 3.477397205611306)]), ('148', [('12', 4.830688809050748)]), ('125', [('228', 4.971925265588658)]), ('83', [('98', 5)]), ('272', [('272', 4.928035632316539)]), ('151', [('511', 4.992923577433194)]), ('54', [('316', 4.910542400653518)]), ('16', [('515', 5)]), ('91', [('316', 4.541729122964516)]), ('294', [('12', 4.997604071699838)]), ('229', [('318', 4.046567679908053)]), ('36', [('98', 5)]), ('70', [('12', 4.6024472993393095)]), ('14', [('169', 4.838111686028947)]), ('295', [('302', 5)]), ('233', [('408', 5)]), ('214', [('515', 4.684244536432289)]), ('192', [('64', 4.631797083961536)]), ('100', [('408', 4.336621836792616)]), ('307', [('318', 4.781310611429973)]), ('297', [('276', 4.591150172239477)]), ('193', [('64', 4.486801210108013)]), ('113', [('22', 4.975609106014027)]), ('275', [('318', 4.013332928444464)]), ('219', [('169', 4.831596597632194)]), ('218', [('408', 4.33378956515116)]), ('123', [('318', 4.513840384630371)]), ('158', [('59', 4.941951682171925)]), ('302', [('12', 4.054401403279856)]), ('23', [('169', 4.913156225540306)]), ('296', [('302', 5)]), ('33', [('408', 5)]), ('154', [('127', 4.880269272321465)]), ('77', [('169', 4.464878948985308)]), ('270', [('302', 5)]), ('187', [('357', 4.835025942118133)]), ('170', [('483', 5)]), ('101', [('408', 4.400143395955399)]), ('184', [('169', 4.7000182281684495)]), ('112', [('64', 4.872033256396274)]), ('133', [('12', 4.361640390509468)]), ('215', [('603', 4.614016025434266)]), ('69', [('176', 4.885268194903535)]), ('104', [('174', 3.994976148314369)]), ('240', [('64', 4.975552429207875)]), ('144', [('79', 4.742647514168911)]), ('191', [('318', 4.682034235287474)]), ('61', [('114', 4.485922585756913)]), ('142', [('64', 4.6017541147219765)]), ('177', [('515', 4.519158133551888)]), ('203', [('178', 4.6661352368064)]), ('21', [('134', 4.884031237093502)]), ('197', [('423', 4.520606381389084)]), ('134', [('22', 4.716901172654378)]), ('180', [('272', 5)]), ('236', [('272', 4.251693744535182)]), ('263', [('59', 4.740446850497177)]), ('109', [('83', 4.606497307208417)]), ('64', [('357', 4.670736633465951)]), ('114', [('169', 4.465283491828223)]), ('239', [('408', 4.999854560120001)]), ('117', [('408', 5)]), ('65', [('59', 4.745164974401662)]), ('137', [('302', 5)]), ('257', [('64', 5)]), ('111', [('318', 4.619382877430476)]), ('285', [('114', 4.767091431142625)]), ('96', [('313', 5)]), ('116', [('408', 4.200686358140471)]), ('73', [('408', 4.657526806850481)]), ('221', [('98', 4.76163769360322)]), ('235', [('408', 4.7212739114052775)]), ('164', [('603', 5)]), ('281', [('318', 4.813758170035951)]), ('182', [('318', 4.597409101757119)]), ('129', [('408', 3.7701425710305596)]), ('45', [('483', 4.987827177580386)]), ('131', [('169', 4.8835333357494966)]), ('230', [('318', 4.739428471060783)]), ('126', [('408', 4.916843073971168)]), ('231', [('178', 4.556908535864251)]), ('280', [('474', 5)]), ('288', [('169', 4.799873927031459)]), ('152', [('194', 5)]), ('217', [('98', 4.623526929351247)]), ('79', [('513', 4.901729542857267)]), ('75', [('357', 4.831380951112739)]), ('245', [('528', 4.449817949374037)]), ('282', [('408', 4.938393726826728)]), ('78', [('98', 4.7629747809456)]), ('118', [('302', 5)]), ('283', [('408', 5)]), ('171', [('318', 4.471798461741702)]), ('107', [('513', 4.261013264031992)]), ('226', [('50', 4.963313440733292)]), ('306', [('483', 4.843715998234522)]), ('173', [('474', 5)]), ('185', [('313', 4.732398455278476)]), ('150', [('272', 4.833062099456096)]), ('274', [('174', 5)]), ('188', [('12', 4.801226740556133)]), ('48', [('127', 4.54283878746051)]), ('311', [('272', 4.746174992417031)]), ('165', [('408', 4.961432195739814)]), ('208', [('272', 4.541389226055357)]), ('2', [('187', 4.852957394512335)]), ('205', [('408', 4.148738801431077)]), ('248', [('173', 4.399051183812253)]), ('93', [('313', 4.697219854690361)]), ('159', [('12', 4.895074971681053)]), ('146', [('408', 4.740186334526557)]), ('29', [('408', 4.681614639110127)]), ('156', [('408', 4.292273850029179)]), ('37', [('318', 4.823304135191593)]), ('141', [('169', 4.838750348904541)]), ('195', [('483', 4.4744298192526655)]), ('108', [('272', 4.582317162539381)]), ('47', [('408', 4.765031129727222)]), ('255', [('12', 4.2634607927850645)]), ('89', [('190', 5)]), ('140', [('169', 4.893962699463679)]), ('190', [('174', 4.593482199599143)]), ('24', [('480', 5)]), ('17', [('483', 4.183388385727746)]), ('313', [('285', 4.497603444118427)]), ('53', [('318', 4.702191589718474)]), ('124', [('408', 4.4613376482853635)]), ('149', [('318', 4.25981996516898)]), ('176', [('98', 4.931702859291549)]), ('106', [('408', 4.646613851619951)]), ('312', [('1194', 5)]), ('175', [('657', 4.443198602756439)]), ('153', [('408', 4.189415389831219)]), ('220', [('169', 5)]), ('143', [('408', 4.830866332875942)]), ('199', [('169', 4.2099615685844665)]), ('202', [('169', 3.663088125272719)]), ('277', [('318', 4.4827495953587855)]), ('206', [('318', 3.535876701367944)]), ('76', [('185', 4.50827995859236)]), ('314', [('133', 5)]), ('136', [('408', 5)]), ('179', [('64', 4.416443028486299)]), ('4', [('98', 5)]), ('304', [('114', 4.818816900751243)]), ('3', [('479', 4.113352511974807)]), ('227', [('493', 4.6242001602083445)]), ('252', [('474', 5)]), ('212', [('64', 4.48926261955897)]), ('310', [('174', 4.762054095056249)]), ('35', [('603', 4.5095539465070535)]), ('147', [('272', 5)]), ('105', [('408', 4.621995258041274)]), ('34', [('194', 5)]), ('71', [('603', 4.577318929852729)]), ('51', [('174', 4.5220455206126395)]), ('204', [('169', 4.567140482398592)]), ('315', [('408', 4.77976568074318)]), ('31', [('483', 4.7593081565909)]), ('316', [('488', 4.084081873637078)]), ('103', [('483', 4.553459980091027)]), ('318', [('603', 4.79044342515857)]), ('30', [('12', 4.849964221226143)]), ('120', [('408', 4.720440578864782)]), ('46', [('483', 4.984652663066156)]), ('289', [('603', 4.264164407578197)]), ('209', [('318', 4.2244923947870845)]), ('261', [('302', 5)]), ('88', [('483', 4.912116787173946)]), ('9', [('98', 5)]), ('247', [('408', 4.864069299662795)]), ('321', [('318', 4.378949256560041)]), ('266', [('318', 4.254417111444014)]), ('74', [('318', 4.589264565818659)]), ('238', [('318', 4.590616265266425)]), ('319', [('408', 4.62260691871359)]), ('323', [('357', 4.7718070022287025)]), ('67', [('603', 5)]), ('211', [('408', 4.26671659454223)]), ('98', [('169', 4.535857851189642)]), ('12', [('64', 5)]), ('40', [('483', 4.150227902227797)]), ('258', [('64', 4.979946492980967)]), ('228', [('483', 4.239442381958053)]), ('325', [('479', 4.356149649175687)]), ('320', [('515', 5)]), ('326', [('487', 4.308160927783045)]), ('327', [('513', 4.24931502062331)]), ('183', [('408', 4.493051082754663)]), ('328', [('191', 4.474867006673568)]), ('322', [('408', 4.9265986253143375)]), ('330', [('302', 5)]), ('27', [('483', 4.421875720818541)]), ('331', [('408', 4.448528298242484)]), ('332', [('603', 5)]), ('329', [('408', 4.235535613908471)]), ('86', [('169', 4.959867170664871)]), ('139', [('357', 4.872145425917966)]), ('300', [('480', 5)]), ('163', [('513', 4.046836622531651)]), ('333', [('313', 4.7063522138076035)]), ('334', [('178', 4.446081328346704)]), ('39', [('50', 4.907271054936682)]), ('324', [('302', 5)]), ('132', [('483', 4.599493680854881)]), ('336', [('64', 4.563544934940328)]), ('335', [('318', 4.723806488689788)]), ('169', [('169', 4.81541898731566)]), ('338', [('9', 4.695497661332939)]), ('339', [('408', 5)]), ('309', [('64', 4.796623747489565)]), ('342', [('127', 5)]), ('340', [('496', 4.932462466973948)]), ('317', [('12', 4.938384054677931)]), ('341', [('474', 5)]), ('343', [('185', 5)]), ('344', [('483', 4.598091003569012)]), ('345', [('483', 4.664913679845619)]), ('346', [('408', 4.596328030824938)]), ('347', [('64', 4.944171639282144)]), ('273', [('493', 4.5347466262129705)]), ('55', [('408', 4.38172316184812)]), ('349', [('483', 4.524315112145137)]), ('348', [('480', 5)]), ('354', [('408', 4.705442218069543)]), ('351', [('515', 5)]), ('358', [('408', 4.412203844129869)]), ('352', [('127', 4.687500006507465)]), ('360', [('318', 4.6585280396849305)]), ('363', [('64', 4.393944229581702)]), ('355', [('174', 5)]), ('362', [('64', 4.653083715714613)]), ('357', [('302', 5)]), ('356', [('408', 4.701230902241795)]), ('361', [('318', 4.706006042134379)]), ('365', [('50', 5)]), ('350', [('408', 4.928206668779828)]), ('367', [('474', 5)]), ('368', [('483', 4.521452626888398)]), ('371', [('318', 5)]), ('373', [('272', 4.756982657039683)]), ('370', [('483', 4.262923586005445)]), ('374', [('603', 4.733140392248558)]), ('372', [('474', 5)]), ('337', [('318', 5)]), ('378', [('483', 4.494426427606175)]), ('366', [('246', 5)]), ('377', [('64', 4.9493419962847005)]), ('375', [('50', 4.9085026900432025)]), ('359', [('515', 4.864801823661177)]), ('379', [('318', 4.877839653154299)]), ('380', [('657', 3.949904849409788)]), ('381', [('474', 4.90300872631062)]), ('385', [('179', 4.48143441118222)]), ('382', [('408', 4.655045209945111)]), ('387', [('185', 4.914113223312459)]), ('364', [('318', 4.936134528667967)]), ('369', [('483', 5)]), ('388', [('603', 5)]), ('386', [('313', 4.960088890669154)]), ('389', [('192', 4.730329411297484)]), ('383', [('408', 5)]), ('390', [('64', 4.912555728993912)]), ('393', [('408', 4.5583346633952395)]), ('392', [('318', 5)]), ('376', [('408', 4.580096071941453)]), ('394', [('408', 5)]), ('391', [('408', 4.557649526342752)]), ('398', [('22', 4.452318371852618)]), ('397', [('427', 4.703865057706653)]), ('399', [('408', 4.190751315396675)]), ('396', [('603', 4.70616060084365)]), ('401', [('489', 4.155449742504828)]), ('402', [('318', 4.756789224059017)]), ('384', [('603', 5)]), ('395', [('357', 4.93681368510321)]), ('353', [('64', 4.592186588714489)]), ('403', [('408', 4.836710698523329)]), ('405', [('496', 3.6458319604783265)]), ('400', [('169', 4.8745816637294475)]), ('406', [('408', 4.493806194908333)]), ('407', [('64', 4.57834983235308)]), ('409', [('114', 4.615979222968984)]), ('404', [('408', 4.729602656596181)]), ('413', [('64', 4.781339182676213)]), ('416', [('483', 5)]), ('408', [('483', 4.837520741384775)]), ('410', [('483', 4.2016212387701355)]), ('411', [('408', 4.700867159810186)]), ('417', [('318', 4.529808703522825)]), ('412', [('498', 4.537850145398375)]), ('420', [('169', 4.956045895661138)]), ('422', [('318', 4.6786601289694305)]), ('425', [('169', 4.413371128898328)]), ('419', [('318', 4.900106053352615)]), ('415', [('318', 5)]), ('423', [('64', 4.709266774594518)]), ('429', [('313', 4.366374579374717)]), ('428', [('483', 5)]), ('427', [('242', 5)]), ('418', [('408', 4.360683659525774)]), ('424', [('408', 4.492879884616144)]), ('432', [('127', 4.916058967760474)]), ('421', [('408', 4.474291364041988)]), ('435', [('114', 4.62067245562149)]), ('433', [('100', 4.6035860515624965)]), ('426', [('12', 4.370820672756969)]), ('436', [('318', 5)]), ('430', [('427', 4.478507396814748)]), ('434', [('603', 5)]), ('437', [('498', 4.710472099469219)]), ('438', [('318', 5)]), ('431', [('318', 4.686450417851191)]), ('442', [('127', 4.383705586728445)]), ('440', [('98', 5)]), ('445', [('169', 3.0179443264346815)]), ('447', [('127', 4.61096583502911)]), ('449', [('408', 5)]), ('450', [('515', 4.872463455495836)]), ('446', [('408', 4.245205609877143)]), ('439', [('408', 4.710440179272336)]), ('451', [('272', 4.496635481651181)]), ('452', [('251', 4.436498213974573)]), ('454', [('265', 3.755181181029276)]), ('453', [('64', 4.465234700040452)]), ('414', [('12', 5)]), ('455', [('408', 4.466626477196051)]), ('444', [('318', 4.793101264380208)]), ('448', [('22', 4.458007180095103)]), ('457', [('480', 5)]), ('456', [('169', 4.567569487104719)]), ('458', [('135', 4.7337429868392595)]), ('462', [('318', 5)]), ('459', [('483', 4.662801047546462)]), ('460', [('408', 4.355627820040244)]), ('461', [('64', 4.317151093339448)]), ('467', [('318', 4.705536054561728)]), ('468', [('511', 4.923339346762055)]), ('466', [('318', 4.401830280206492)]), ('472', [('302', 5)]), ('465', [('57', 4.002965021756007)]), ('463', [('654', 4.4205808017136174)]), ('471', [('479', 4.532655290634082)]), ('474', [('272', 4.791079088553172)]), ('469', [('408', 5)]), ('464', [('483', 5)]), ('476', [('114', 4.871987756206815)]), ('478', [('511', 4.649594895636878)]), ('473', [('408', 4.674574874354012)]), ('470', [('408', 4.599744710486231)]), ('480', [('513', 4.414201761317972)]), ('441', [('483', 4.625071226807318)]), ('479', [('12', 4.508877961805309)]), ('484', [('64', 5)]), ('486', [('357', 4.725579224333138)]), ('487', [('114', 4.615363109215407)]), ('482', [('98', 4.560207115081975)]), ('481', [('408', 4.859708668092902)]), ('492', [('408', 4.071750001102181)]), ('493', [('408', 4.838486144409666)]), ('490', [('169', 4.025308069665436)]), ('489', [('515', 5)]), ('483', [('169', 4.212620177830592)]), ('496', [('302', 4.214988636537941)]), ('494', [('313', 4.795022206997889)]), ('495', [('603', 5)]), ('477', [('242', 5)]), ('497', [('483', 4.255264359587237)]), ('488', [('313', 4.3928167297315674)]), ('498', [('408', 4.1606154723124105)]), ('499', [('408', 4.473762624193372)]), ('491', [('114', 4.688342643239284)]), ('500', [('474', 4.700363161985199)]), ('502', [('408', 4.736589054994979)]), ('503', [('480', 4.931790333396238)]), ('504', [('64', 4.814545179814363)]), ('505', [('318', 4.545784524732355)]), ('506', [('127', 4.908798354353878)]), ('443', [('318', 4.943386379234044)]), ('507', [('242', 5)]), ('514', [('603', 4.629929859473246)]), ('508', [('657', 4.885022996494648)]), ('511', [('483', 5)]), ('515', [('169', 4.300534487019168)]), ('512', [('408', 4.991600263321001)]), ('513', [('98', 5)]), ('475', [('408', 4.644738646944935)]), ('523', [('302', 5)]), ('518', [('408', 4.9140798292095775)]), ('509', [('408', 4.03471555445823)]), ('516', [('408', 4.820216938545533)]), ('510', [('197', 4.337708890282802)]), ('524', [('313', 4.692860384841111)]), ('501', [('474', 5)]), ('525', [('408', 4.539541495392388)]), ('521', [('408', 4.218831297434448)]), ('520', [('64', 4.706270474226159)]), ('519', [('242', 5)]), ('528', [('313', 4.789108672700752)]), ('532', [('174', 5)]), ('530', [('318', 4.693140720490262)]), ('531', [('483', 4.833765862497545)]), ('529', [('408', 4.933943485549257)]), ('517', [('169', 4.522100022178188)]), ('527', [('408', 4.578037081532474)]), ('485', [('169', 4.255723246155309)]), ('533', [('79', 4.383761976707734)]), ('535', [('169', 4.866433212426664)]), ('536', [('64', 4.869820767810798)]), ('526', [('98', 4.3973760963064805)]), ('537', [('408', 4.002490195447155)]), ('534', [('474', 5)]), ('541', [('169', 4.953047575116251)]), ('538', [('64', 4.359792790481484)]), ('542', [('185', 4.526146992131297)]), ('545', [('318', 4.551342421230938)]), ('539', [('318', 4.821512154563197)]), ('547', [('408', 4.8222013573485105)]), ('543', [('408', 4.570429240446825)]), ('548', [('265', 5)]), ('546', [('603', 5)]), ('522', [('169', 5)]), ('551', [('197', 5)]), ('544', [('318', 4.166120009148168)]), ('553', [('12', 5)]), ('552', [('483', 4.366069369706531)]), ('540', [('408', 4.898803456771167)]), ('554', [('64', 4.6773672456514905)]), ('550', [('408', 4.849495037861431)]), ('556', [('185', 4.864641044933989)]), ('559', [('178', 4.356152729197093)]), ('560', [('169', 4.543320848394787)]), ('561', [('134', 4.186314228387759)]), ('563', [('169', 5)]), ('566', [('169', 4.7683033813889955)]), ('557', [('427', 5)]), ('558', [('169', 5)]), ('564', [('174', 4.58713825042873)]), ('565', [('603', 5)]), ('573', [('408', 4.451113263744841)]), ('549', [('408', 4.876315685848324)]), ('567', [('1449', 4.729352996716739)]), ('569', [('318', 4.809830743483223)]), ('562', [('192', 4.657199582239852)]), ('576', [('318', 4.684914885142272)]), ('577', [('483', 4.8702414426782346)]), ('579', [('483', 4.3862629717419646)]), ('574', [('169', 4.61314235569679)]), ('555', [('408', 5)]), ('572', [('603', 4.307018997584979)]), ('575', [('12', 3.9383072074237053)]), ('584', [('408', 4.7127860257007725)]), ('588', [('481', 4.96914837778753)]), ('587', [('603', 4.5292818073133)]), ('568', [('12', 4.152526076397923)]), ('586', [('923', 4.409064040222251)]), ('585', [('483', 4.611917416407174)]), ('582', [('12', 4.75337708331086)]), ('591', [('408', 4.488830384593853)]), ('581', [('318', 5)]), ('592', [('200', 5)]), ('580', [('172', 4.801817992452195)]), ('590', [('483', 4.593229087892643)]), ('593', [('427', 4.616179775611339)]), ('583', [('272', 5)]), ('596', [('515', 4.7718825696001455)]), ('570', [('98', 4.257538000296745)]), ('599', [('603', 5)]), ('589', [('172', 4.765736233862493)]), ('594', [('408', 4.273385320188744)]), ('597', [('357', 4.7874646140487185)]), ('578', [('173', 4.168725731933373)]), ('601', [('408', 4.678881837490184)]), ('602', [('318', 5)]), ('600', [('483', 4.731067117458858)]), ('605', [('498', 4.900625654692025)]), ('603', [('483', 4.781272737078109)]), ('595', [('98', 4.747378260736014)]), ('606', [('272', 4.989452693204705)]), ('608', [('316', 4.634293174291062)]), ('607', [('318', 4.636016882945199)]), ('610', [('191', 4.572265981898976)]), ('611', [('318', 5)]), ('617', [('127', 4.158308445241079)]), ('618', [('603', 4.083482456800044)]), ('614', [('408', 4.575050669683285)]), ('609', [('64', 4.1990951148171645)]), ('615', [('50', 4.781141564902839)]), ('616', [('64', 4.86487156710643)]), ('620', [('96', 4.98680061591588)]), ('571', [('408', 4.344589855454527)]), ('619', [('98', 4.749787678434694)]), ('613', [('114', 4.9701535739275595)]), ('622', [('179', 4.643024665496944)]), ('621', [('12', 5)]), ('604', [('318', 4.424381282944767)]), ('624', [('12', 4.727992760951544)]), ('612', [('483', 4.510039959090669)]), ('627', [('168', 4.543010453157262)]), ('623', [('318', 4.599697782202248)]), ('628', [('474', 5)]), ('625', [('114', 4.3386570748869655)]), ('629', [('318', 5)]), ('633', [('178', 4.139130875375366)]), ('632', [('513', 4.486872158698877)]), ('631', [('408', 4.574454988475371)]), ('634', [('318', 4.572930285413364)]), ('639', [('318', 4.003982321157142)]), ('630', [('178', 4.389106614303269)]), ('642', [('515', 5)]), ('637', [('318', 3.97275060789054)]), ('640', [('98', 5)]), ('626', [('56', 4.116665599012832)]), ('643', [('134', 4.811762442114759)]), ('598', [('169', 4.827761558815455)]), ('638', [('408', 4.474362297019231)]), ('635', [('480', 4.597920778027514)]), ('644', [('98', 5)]), ('636', [('474', 5)]), ('645', [('511', 4.767122869296418)]), ('648', [('408', 4.510868095768227)]), ('647', [('408', 4.792166691367336)]), ('650', [('114', 4.284042024243927)]), ('651', [('50', 4.759829629778199)]), ('654', [('64', 4.790106333556415)]), ('653', [('408', 4.022103977696161)]), ('655', [('408', 3.928777745898728)]), ('649', [('318', 5)]), ('658', [('134', 4.495703679697278)]), ('656', [('318', 3.7972277929992675)]), ('660', [('408', 3.7247220579121514)]), ('659', [('408', 4.56340869945188)]), ('646', [('178', 4.0899670181991805)]), ('663', [('172', 4.629592677289754)]), ('664', [('114', 4.720365391904198)]), ('657', [('483', 4.434368399060104)]), ('665', [('318', 4.486496994773221)]), ('666', [('408', 4.539518543856301)]), ('661', [('483', 4.7287939256460305)]), ('662', [('408', 4.914778684577415)]), ('667', [('169', 4.794091902584838)]), ('641', [('173', 4.725152701428306)]), ('668', [('89', 4.66743550192491)]), ('673', [('127', 4.859369697760546)]), ('671', [('313', 4.8992594092446256)]), ('669', [('178', 4.261895161041272)]), ('676', [('496', 4.818146444856709)]), ('674', [('114', 4.837646179925532)]), ('652', [('408', 4.457371218180954)]), ('677', [('114', 5)]), ('682', [('114', 4.300818024193406)]), ('679', [('12', 4.666394110607658)]), ('684', [('313', 4.650017112539686)]), ('685', [('89', 3.6853380347059557)]), ('683', [('483', 4.366112156904202)]), ('691', [('408', 5)]), ('672', [('408', 4.556492734144728)]), ('692', [('318', 4.582813825218658)]), ('690', [('515', 4.4152791941428395)]), ('689', [('318', 4.846604992664031)]), ('686', [('408', 5)]), ('693', [('474', 4.0665109214037605)]), ('688', [('242', 5)]), ('697', [('408', 5)]), ('698', [('114', 3.603223978084097)]), ('670', [('408', 4.629959936472945)]), ('694', [('64', 4.78486614052577)]), ('680', [('474', 4.70374349273103)]), ('705', [('169', 4.835049085477242)]), ('701', [('408', 4.994975499296542)]), ('699', [('603', 4.36315978351922)]), ('704', [('408', 4.458627947890069)]), ('707', [('511', 4.619076138448305)]), ('700', [('483', 4.257274298262638)]), ('687', [('408', 4.775878973578433)]), ('695', [('98', 4.735823242738991)]), ('675', [('483', 4.626642860066851)]), ('708', [('318', 4.8603294929905925)]), ('709', [('313', 4.611086317774934)]), ('711', [('14', 5)]), ('710', [('480', 4.510745205660166)]), ('712', [('318', 4.78861463046463)]), ('715', [('178', 4.497048319212867)]), ('713', [('169', 4.043388261685837)]), ('716', [('963', 4.8443440840013805)]), ('681', [('173', 4.529811565844385)]), ('678', [('64', 4.288612790014122)]), ('719', [('528', 3.895506799211575)]), ('702', [('64', 4.0080436234859596)]), ('721', [('59', 4.751351698247381)]), ('714', [('173', 4.586819375872849)]), ('717', [('98', 5)]), ('718', [('174', 5)]), ('696', [('318', 5)]), ('722', [('169', 4.949510508406648)]), ('724', [('480', 3.727485851789712)]), ('727', [('313', 4.241598279077824)]), ('725', [('408', 4.923858029327621)]), ('706', [('318', 4.517948337618089)]), ('720', [('318', 4.893005193020733)]), ('729', [('64', 4.356345372828784)]), ('726', [('313', 4.408517573057164)]), ('728', [('318', 4.75865470882134)]), ('703', [('174', 4.723616187832971)]), ('738', [('12', 4.357198766934112)]), ('736', [('98', 4.267949438681659)]), ('734', [('511', 4.2787984718659)]), ('730', [('483', 4.399284446917334)]), ('743', [('98', 4.895751201342694)]), ('742', [('318', 4.6442509039966)]), ('737', [('318', 4.580879147632531)]), ('733', [('192', 4.129173924830321)]), ('745', [('318', 4.144917446195059)]), ('740', [('408', 4.583610470519682)]), ('735', [('272', 4.4244101803621225)]), ('747', [('191', 5)]), ('723', [('408', 4.229705837196984)]), ('739', [('174', 4.639834355120085)]), ('749', [('318', 4.771210648759509)]), ('748', [('285', 4.364964823086896)]), ('746', [('318', 4.708521233485588)]), ('731', [('98', 4.733341989510784)]), ('750', [('408', 4.601594943607261)]), ('741', [('127', 4.674064327828834)]), ('751', [('169', 4.562132899960673)]), ('756', [('169', 4.491701299900846)]), ('757', [('318', 4.552239870770006)]), ('752', [('173', 4.693045233007077)]), ('758', [('513', 4.913942299619326)]), ('732', [('318', 4.927649074279274)]), ('762', [('483', 4.365553907979217)]), ('744', [('313', 4.467631582789177)]), ('754', [('408', 4.5762208097464905)]), ('753', [('485', 4.312842659276809)]), ('763', [('285', 4.564775591701492)]), ('764', [('483', 4.595112819465779)]), ('767', [('127', 5)]), ('769', [('603', 4.409103049975043)]), ('755', [('603', 4.478520675353035)]), ('771', [('487', 4.518020269753693)]), ('768', [('318', 4.441508864304183)]), ('773', [('474', 4.729090722372492)]), ('765', [('318', 4.921292509040223)]), ('772', [('318', 5)]), ('766', [('169', 4.343920351789357)]), ('774', [('432', 3.3928512946394425)]), ('760', [('483', 4.487894292522088)]), ('761', [('64', 4.1691906267874215)]), ('777', [('513', 4.924973251341266)]), ('759', [('515', 5)]), ('776', [('408', 4.523186159601034)]), ('780', [('181', 4.605466134172373)]), ('779', [('408', 5)]), ('778', [('408', 4.2543585487329745)]), ('782', [('64', 4.1821477354151675)]), ('786', [('64', 4.901743158975965)]), ('784', [('408', 5)]), ('770', [('242', 5)]), ('788', [('313', 4.510043109277782)]), ('789', [('408', 4.65298583584293)]), ('790', [('272', 4.366603565637575)]), ('787', [('408', 4.484900056154223)]), ('783', [('603', 5)]), ('785', [('408', 4.60160284794384)]), ('794', [('408', 5)]), ('781', [('169', 4.631590162152097)]), ('796', [('208', 4.605949831374047)]), ('795', [('408', 4.476888668007941)]), ('793', [('318', 4.865783287376181)]), ('798', [('408', 4.861274007204163)]), ('791', [('127', 4.988277997611398)]), ('802', [('513', 4.777777586627582)]), ('800', [('408', 4.858560990655841)]), ('804', [('169', 5)]), ('803', [('318', 4.768917977311528)]), ('775', [('515', 4.856678122634739)]), ('792', [('178', 4.387155338078129)]), ('799', [('483', 4.715896038308463)]), ('805', [('285', 4.816474050402084)]), ('806', [('134', 4.612966549471595)]), ('807', [('114', 4.8331433325098265)]), ('797', [('172', 4.3336756808346815)]), ('801', [('603', 5)]), ('809', [('408', 4.575099166750509)]), ('815', [('64', 4.897457095791986)]), ('817', [('408', 4.527420798316074)]), ('821', [('474', 5)]), ('818', [('318', 4.676649480263481)]), ('814', [('50', 4.360098202895667)]), ('812', [('127', 4.804620943581168)]), ('823', [('14', 4.969802406059885)]), ('825', [('313', 4.9526727932612244)]), ('827', [('169', 4.375132102548856)]), ('829', [('187', 4.39638849686143)]), ('811', [('474', 5)]), ('830', [('483', 4.822689841035351)]), ('826', [('408', 4.876343253207395)]), ('831', [('251', 4.4299426683586836)]), ('819', [('483', 5)]), ('828', [('483', 4.0525214850052125)]), ('808', [('272', 5)]), ('835', [('513', 5)]), ('833', [('408', 4.440597363392328)]), ('836', [('408', 4.739149287110201)]), ('816', [('603', 5)]), ('838', [('64', 4.805765973844172)]), ('839', [('515', 4.603778074675478)]), ('840', [('408', 4.884237592626212)]), ('832', [('483', 4.50761091012304)]), ('810', [('302', 5)]), ('844', [('483', 4.410010108349685)]), ('843', [('408', 3.9553517216802496)]), ('834', [('169', 4.785116765967156)]), ('846', [('313', 4.864517892329615)]), ('837', [('318', 4.422943344358298)]), ('813', [('483', 4.409671314143259)]), ('842', [('12', 4.812787840326638)]), ('847', [('318', 4.280483168761251)]), ('848', [('100', 5)]), ('822', [('64', 4.270285627117019)]), ('852', [('12', 4.767365792293806)]), ('851', [('96', 4.91716399794486)]), ('849', [('302', 5)]), ('854', [('408', 4.323278945784898)]), ('850', [('483', 5)]), ('858', [('318', 4.440860696997425)]), ('853', [('603', 4.480467109603379)]), ('855', [('64', 4.133479254855358)]), ('824', [('513', 4.258789125298154)]), ('845', [('174', 4.182685314629244)]), ('841', [('408', 5)]), ('859', [('408', 5)]), ('862', [('194', 5)]), ('856', [('318', 4.647010672993654)]), ('820', [('114', 4.368155690921512)]), ('863', [('127', 4.627636743177003)]), ('860', [('483', 4.410009004647137)]), ('857', [('408', 4.611315006375657)]), ('864', [('187', 4.9396979597767245)]), ('865', [('474', 4.056688684976098)]), ('868', [('134', 4.631891357408119)]), ('867', [('479', 5)]), ('861', [('169', 5)]), ('870', [('187', 4.332895000012123)]), ('871', [('408', 4.559612143729446)]), ('875', [('408', 4.925823810869371)]), ('876', [('272', 5)]), ('872', [('408', 4.799260937494986)]), ('866', [('483', 3.818563486852487)]), ('877', [('187', 4.754371877116829)]), ('873', [('50', 4.328315998601853)]), ('880', [('408', 4.922277211615428)]), ('878', [('302', 4.1188383598871425)]), ('869', [('191', 4.222087836626895)]), ('881', [('318', 4.55240274142709)]), ('879', [('318', 4.852375827210625)]), ('883', [('474', 5)]), ('882', [('64', 5)]), ('884', [('12', 4.6264662338935985)]), ('886', [('114', 4.701022040419633)]), ('885', [('64', 4.294115243184361)]), ('889', [('114', 4.29026276376528)]), ('874', [('408', 4.669295535539097)]), ('892', [('408', 4.945778215755145)]), ('890', [('408', 4.819855379890406)]), ('893', [('64', 4.630549821063364)]), ('887', [('194', 5)]), ('891', [('474', 5)]), ('894', [('474', 4.72335257572108)]), ('896', [('357', 4.266797996566619)]), ('897', [('480', 5)]), ('901', [('59', 4.9226903133374)]), ('899', [('408', 4.425541592688296)]), ('903', [('474', 4.952038044762788)]), ('904', [('318', 4.979450295557411)]), ('907', [('302', 5)]), ('905', [('483', 4.347908682172071)]), ('902', [('173', 4.435483636842579)]), ('898', [('318', 4.688745832884441)]), ('895', [('318', 4.7689952527339114)]), ('906', [('318', 4.869369397364368)]), ('900', [('127', 3.755179883698902)]), ('908', [('313', 4.273593439555891)]), ('916', [('169', 4.680543058013482)]), ('911', [('408', 4.853430076166694)]), ('912', [('923', 4.31009701662592)]), ('914', [('603', 4.379055888061769)]), ('918', [('483', 4.261859682144595)]), ('919', [('134', 4.693906426988851)]), ('921', [('408', 4.470092858563235)]), ('910', [('318', 4.218164641538644)]), ('913', [('511', 4.339869413939151)]), ('915', [('408', 4.287442298908406)]), ('922', [('114', 4.708664539957136)]), ('923', [('302', 5)]), ('928', [('302', 5)]), ('927', [('169', 4.907301122686847)]), ('924', [('603', 4.4327397560958035)]), ('929', [('408', 4.326330908627486)]), ('931', [('318', 4.714821719015011)]), ('917', [('318', 4.727930087911359)]), ('932', [('124', 4.8389021970580925)]), ('909', [('98', 5)]), ('934', [('318', 4.729365671175044)]), ('933', [('408', 4.129369006306005)]), ('935', [('408', 5)]), ('938', [('174', 4.8985421197517995)]), ('940', [('318', 4.480532181098384)]), ('888', [('483', 5)]), ('925', [('408', 4.481571260498586)]), ('942', [('474', 5)]), ('937', [('114', 4.303366427243443)]), ('926', [('483', 4.3787247638730555)]), ('943', [('83', 4.677083208005565)]), ('939', [('302', 5)]), ('936', [('474', 5)]), ('930', [('488', 3.9903132380149824)]), ('920', [('64', 4.32943108140994)]), ('941', [('318', 4.928102019672315)])])"
            ]
          },
          "metadata": {
            "tags": []
          },
          "execution_count": 20
        }
      ]
    },
    {
      "cell_type": "code",
      "metadata": {
        "id": "WMOCVS46syCV",
        "colab_type": "code",
        "colab": {
          "base_uri": "https://localhost:8080/",
          "height": 105
        },
        "outputId": "8925ed15-a5cc-49da-f944-2804a40e4d55"
      },
      "source": [
        "print('ingrese usuario:')\n",
        "uid=input()\n",
        "movie=top_n.get(uid)[0][0]\n",
        "movie_name=items[items[0] == int(movie)][1]\n",
        "print('película:', movie)\n",
        "print('nombre:', movie_name.to_string(index=False))\n",
        "print('puntuación:', top_n.get(uid)[0][1])"
      ],
      "execution_count": 22,
      "outputs": [
        {
          "output_type": "stream",
          "text": [
            "ingrese usuario:\n",
            "186\n",
            "película: 318\n",
            "nombre:  Schindler's List (1993)\n",
            "puntuación: 4.722651791399849\n"
          ],
          "name": "stdout"
        }
      ]
    },
    {
      "cell_type": "code",
      "metadata": {
        "id": "bgYZ6sHNjics",
        "colab_type": "code",
        "colab": {}
      },
      "source": [
        ""
      ],
      "execution_count": 0,
      "outputs": []
    }
  ]
}